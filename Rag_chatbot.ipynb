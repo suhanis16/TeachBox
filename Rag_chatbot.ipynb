{
  "cells": [
    {
      "cell_type": "markdown",
      "metadata": {
        "colab_type": "text",
        "id": "view-in-github"
      },
      "source": [
        "<a href=\"https://colab.research.google.com/github/suhanis16/TeachBox/blob/main/Rag_chatbot.ipynb\" target=\"_parent\"><img src=\"https://colab.research.google.com/assets/colab-badge.svg\" alt=\"Open In Colab\"/></a>"
      ]
    },
    {
      "cell_type": "markdown",
      "metadata": {
        "id": "a9PbsHe3XEoY"
      },
      "source": [
        "[![Open nbviewer](https://raw.githubusercontent.com/pinecone-io/examples/master/assets/nbviewer-shield.svg)](https://nbviewer.org/github/suhanis16/TeachBox/blob/main/Rag_chatbot.ipynb)"
      ]
    },
    {
      "cell_type": "markdown",
      "metadata": {
        "id": "Q7V18VOlXEoa"
      },
      "source": [
        "# Building RAG Chatbots with LangChain"
      ]
    },
    {
      "cell_type": "markdown",
      "metadata": {
        "id": "yAboXbdcXEob"
      },
      "source": [
        "We will be using LangChain, OpenAI, and Pinecone vector DB, to build a chatbot capable of learning from the external world using **R**etrieval **A**ugmented **G**eneration (RAG).\n",
        "\n",
        "The dataset we will be using is our own Notion Active Learning Repository."
      ]
    },
    {
      "cell_type": "markdown",
      "metadata": {
        "id": "Npzd6gJsXEob"
      },
      "source": [
        "### Prerequisites"
      ]
    },
    {
      "cell_type": "markdown",
      "metadata": {
        "id": "z677_hyjXEob"
      },
      "source": [
        "Before we start building our chatbot, we need to install some Python libraries. Here's a brief overview of what each library does:\n",
        "\n",
        "- **langchain**: This is a library for GenAI. We'll use it to chain together different language models and components for our chatbot.\n",
        "- **openai**: This is the official OpenAI Python client. We'll use it to interact with the OpenAI API and generate responses for our chatbot.\n",
        "- **datasets**: This library provides a vast array of datasets for machine learning. We'll use it to load our knowledge base for the chatbot.\n",
        "- **pinecone-client**: This is the official Pinecone Python client. We'll use it to interact with the Pinecone API and store our chatbot's knowledge base in a vector database.\n",
        "\n",
        "You can install these libraries using pip like so:"
      ]
    },
    {
      "cell_type": "code",
      "execution_count": 9,
      "metadata": {
        "id": "MWp3fk_pXEoc"
      },
      "outputs": [
        {
          "name": "stderr",
          "output_type": "stream",
          "text": [
            "\n",
            "[notice] A new release of pip is available: 23.2.1 -> 24.0\n",
            "[notice] To update, run: python.exe -m pip install --upgrade pip\n"
          ]
        }
      ],
      "source": [
        "!pip install -qU \\\n",
        "    langchain==0.0.354 \\\n",
        "    openai==1.6.1 \\\n",
        "    datasets==2.10.1 \\\n",
        "    pinecone-client==3.1.0 \\\n",
        "    tiktoken==0.5.2"
      ]
    },
    {
      "cell_type": "markdown",
      "metadata": {
        "id": "ClQ7ZmlkXEod"
      },
      "source": [
        "### Building a Chatbot (no RAG)"
      ]
    },
    {
      "cell_type": "markdown",
      "metadata": {
        "id": "PMDUI4t0XEod"
      },
      "source": [
        "We will be relying heavily on the LangChain library to bring together the different components needed for our chatbot. To begin, we'll create a simple chatbot without any retrieval augmentation. We do this by initializing a `ChatOpenAI` object. For this we do need an [OpenAI API key](https://platform.openai.com/account/api-keys)."
      ]
    },
    {
      "cell_type": "code",
      "execution_count": 10,
      "metadata": {
        "colab": {
          "base_uri": "https://localhost:8080/"
        },
        "id": "aaBRFUEJXEod",
        "outputId": "69eb7a2b-f544-46da-d6d2-887bc482253b"
      },
      "outputs": [],
      "source": [
        "import os\n",
        "from langchain.chat_models import ChatOpenAI\n",
        "\n",
        "os.environ[\"OPENAI_API_KEY\"] = \"sk-proj-OvcHu8buv4qw8kwGrddJT3BlbkFJxLzwiD1Zt1u5XkXJY0e4\"\n",
        "\n",
        "chat = ChatOpenAI(\n",
        "    openai_api_key=os.environ[\"OPENAI_API_KEY\"],\n",
        "    model='gpt-3.5-turbo'\n",
        ")"
      ]
    },
    {
      "cell_type": "markdown",
      "metadata": {
        "id": "kva50v_QXEoe"
      },
      "source": [
        "Chats with OpenAI's `gpt-3.5-turbo` and `gpt-4` chat models are typically structured (in plain text) like this:\n",
        "\n",
        "```\n",
        "System: You are a helpful assistant.\n",
        "\n",
        "User: Hi AI, how are you today?\n",
        "\n",
        "Assistant: I'm great thank you. How can I help you?\n",
        "\n",
        "User: Tell me about active learning\n",
        "\n",
        "Assistant:\n",
        "```\n",
        "\n",
        "The final `\"Assistant:\"` without a response is what would prompt the model to continue the conversation. In the official OpenAI `ChatCompletion` endpoint these would be passed to the model in a format like:\n",
        "\n",
        "```python\n",
        "[\n",
        "    {\"role\": \"system\", \"content\": \"You are a helpful assistant.\"},\n",
        "    {\"role\": \"user\", \"content\": \"Hi AI, how are you today?\"},\n",
        "    {\"role\": \"assistant\", \"content\": \"I'm great thank you. How can I help you?\"}\n",
        "    {\"role\": \"user\", \"content\": \"Tell me about active learning\"}\n",
        "]\n",
        "```\n",
        "\n",
        "In LangChain there is a slightly different format. We use three _message_ objects like so:"
      ]
    },
    {
      "cell_type": "code",
      "execution_count": 11,
      "metadata": {
        "id": "MmfGatbRXEoe"
      },
      "outputs": [],
      "source": [
        "from langchain.schema import (\n",
        "    SystemMessage,\n",
        "    HumanMessage,\n",
        "    AIMessage\n",
        ")\n",
        "\n",
        "messages = [\n",
        "    SystemMessage(content=\"You are a helpful assistant.\"),\n",
        "    HumanMessage(content=\"Hi AI, how are you today?\"),\n",
        "    AIMessage(content=\"I'm great thank you. How can I help you?\"),\n",
        "    HumanMessage(content=\"Tell me about active learning\")\n",
        "]"
      ]
    },
    {
      "cell_type": "markdown",
      "metadata": {
        "id": "zwjD3mTfXEof"
      },
      "source": [
        "The format is very similar, we're just swapped the role of `\"user\"` for `HumanMessage`, and the role of `\"assistant\"` for `AIMessage`.\n",
        "\n",
        "We generate the next response from the AI by passing these messages to the `ChatOpenAI` object."
      ]
    },
    {
      "cell_type": "code",
      "execution_count": 12,
      "metadata": {
        "colab": {
          "base_uri": "https://localhost:8080/"
        },
        "id": "QEmYXPzyXEog",
        "outputId": "a905d05d-2041-4e19-f717-ece28591d96c"
      },
      "outputs": [
        {
          "data": {
            "text/plain": [
              "AIMessage(content='Active learning is an approach to learning and teaching that involves students actively engaging in the learning process. This can include activities such as group discussions, problem-solving exercises, hands-on experiments, and other interactive tasks that require students to participate and be actively involved in their own learning. Active learning is believed to enhance student engagement, motivation, and retention of knowledge compared to more passive forms of learning. It encourages students to think critically, collaborate with their peers, and apply their knowledge in real-world situations.')"
            ]
          },
          "execution_count": 12,
          "metadata": {},
          "output_type": "execute_result"
        }
      ],
      "source": [
        "res = chat(messages)\n",
        "res"
      ]
    },
    {
      "cell_type": "markdown",
      "metadata": {
        "id": "3J3ImJNqXEoh"
      },
      "source": [
        "In response we get another AI message object. We can print it more clearly like so:"
      ]
    },
    {
      "cell_type": "code",
      "execution_count": 13,
      "metadata": {
        "colab": {
          "base_uri": "https://localhost:8080/"
        },
        "id": "Lfd0TYIXXEoh",
        "outputId": "b806c709-3fee-4820-8550-e5861d9f05bd"
      },
      "outputs": [
        {
          "name": "stdout",
          "output_type": "stream",
          "text": [
            "Active learning is an approach to learning and teaching that involves students actively engaging in the learning process. This can include activities such as group discussions, problem-solving exercises, hands-on experiments, and other interactive tasks that require students to participate and be actively involved in their own learning. Active learning is believed to enhance student engagement, motivation, and retention of knowledge compared to more passive forms of learning. It encourages students to think critically, collaborate with their peers, and apply their knowledge in real-world situations.\n"
          ]
        }
      ],
      "source": [
        "print(res.content)"
      ]
    },
    {
      "cell_type": "markdown",
      "metadata": {
        "id": "7-ulNPXjXEoh"
      },
      "source": [
        "Because `res` is just another `AIMessage` object, we can append it to `messages`, add another `HumanMessage`, and generate the next response in the conversation."
      ]
    },
    {
      "cell_type": "code",
      "execution_count": 14,
      "metadata": {
        "colab": {
          "base_uri": "https://localhost:8080/"
        },
        "id": "7yl22ssrXEoh",
        "outputId": "e379cb42-6183-4ba2-f1c2-14dea1e968c9"
      },
      "outputs": [
        {
          "name": "stdout",
          "output_type": "stream",
          "text": [
            "Implementing active learning in a Biomedical Engineering Thermodynamics course can enhance student understanding and engagement. Here are some strategies you can use:\n",
            "\n",
            "1. **Problem-Based Learning (PBL):** Present students with real-world biomedical engineering problems related to thermodynamics. Have them work in small groups to analyze the problems, propose solutions, and discuss their reasoning.\n",
            "\n",
            "2. **Case Studies:** Use case studies that involve applying thermodynamics principles to biomedical engineering scenarios. This can help students see the relevance of thermodynamics in their field.\n",
            "\n",
            "3. **Interactive Demonstrations:** Conduct hands-on experiments or demonstrations to illustrate thermodynamics concepts. This can help students visualize and understand abstract concepts better.\n",
            "\n",
            "4. **Peer Teaching:** Assign students to teach specific thermodynamics topics to their peers. This can deepen their understanding of the material and promote collaboration.\n",
            "\n",
            "5. **Flipped Classroom:** Provide pre-recorded lectures or readings for students to review before class. Use class time for discussions, problem-solving activities, or group projects related to thermodynamics.\n",
            "\n",
            "6. **Simulation Software:** Use simulation software to allow students to explore thermodynamics concepts in a virtual environment. This can help them apply theoretical knowledge to practical situations.\n",
            "\n",
            "7. **Clicker Questions:** Use audience response systems or clicker questions to engage students during lectures and assess their understanding of thermodynamics concepts in real-time.\n",
            "\n",
            "8. **Collaborative Projects:** Assign group projects that require students to apply thermodynamics principles to design biomedical engineering systems or devices. This can foster teamwork and critical thinking skills.\n",
            "\n",
            "By incorporating these active learning strategies into your Biomedical Engineering Thermodynamics course, you can create a more engaging and effective learning experience for your students.\n"
          ]
        }
      ],
      "source": [
        "# add latest AI response to messages\n",
        "messages.append(res)\n",
        "\n",
        "# now create a new user prompt\n",
        "prompt = HumanMessage(\n",
        "    content=\"How can I implement Active Learning for Biomedical Engineering, I want to teach Thermodynamics\"\n",
        ")\n",
        "# add to messages\n",
        "messages.append(prompt)\n",
        "\n",
        "# send to chat-gpt\n",
        "res = chat(messages)\n",
        "\n",
        "print(res.content)"
      ]
    },
    {
      "cell_type": "markdown",
      "metadata": {
        "id": "lkDwqsh0XEoi"
      },
      "source": [
        "### Dealing with Hallucinations"
      ]
    },
    {
      "cell_type": "markdown",
      "metadata": {
        "id": "SUbmkXYcXEoi"
      },
      "source": [
        "We have our chatbot, but as mentioned — the knowledge of LLMs can be limited. The reason for this is that LLMs learn all they know during training. An LLM essentially compresses the \"world\" as seen in the training data into the internal parameters of the model. We call this knowledge the _parametric knowledge_ of the model.\n",
        "\n",
        "By default, LLMs have no access to the external world.\n",
        "\n",
        "The result of this is very clear when we ask LLMs about more recent information, like about the new (and very popular) Llama 2 LLM."
      ]
    },
    {
      "cell_type": "code",
      "execution_count": 15,
      "metadata": {
        "id": "LV-B178wXEoi"
      },
      "outputs": [],
      "source": [
        "# add latest AI response to messages\n",
        "messages.append(res)\n",
        "\n",
        "# now create a new user prompt\n",
        "prompt = HumanMessage(\n",
        "    content=\"Can you give me an example (research paper) of Active Learning strategy used for biomedical engineering?\"\n",
        ")\n",
        "# add to messages\n",
        "messages.append(prompt)\n",
        "\n",
        "# send to OpenAI\n",
        "res = chat(messages)"
      ]
    },
    {
      "cell_type": "code",
      "execution_count": 16,
      "metadata": {
        "colab": {
          "base_uri": "https://localhost:8080/"
        },
        "id": "xOGaulZ8XEoi",
        "outputId": "c50160ea-f71c-4323-941c-2d49477abcbe"
      },
      "outputs": [
        {
          "name": "stdout",
          "output_type": "stream",
          "text": [
            "Certainly! Here is an example of a research paper that discusses the implementation of active learning strategies in biomedical engineering education:\n",
            "\n",
            "Title: \"Active Learning Strategies in Biomedical Engineering Education: A Case Study\"\n",
            "\n",
            "Authors: John Smith, Jane Doe, Emily Johnson\n",
            "\n",
            "Journal: Journal of Biomedical Engineering Education\n",
            "\n",
            "Abstract: This paper presents a case study of the implementation of active learning strategies in a biomedical engineering course at XYZ University. The study aimed to assess the impact of active learning on student engagement, understanding of complex concepts, and overall learning outcomes. Various active learning techniques, including problem-based learning, case studies, and hands-on experiments, were incorporated into the course curriculum. Student performance and feedback were collected and analyzed to evaluate the effectiveness of these strategies. The results indicated that active learning significantly improved student engagement, critical thinking skills, and retention of knowledge in biomedical engineering. The study provides insights into the benefits of incorporating active learning strategies in biomedical engineering education and offers recommendations for future implementation.\n",
            "\n",
            "This research paper demonstrates how active learning strategies can be applied in the context of biomedical engineering education to enhance student learning outcomes and engagement.\n"
          ]
        }
      ],
      "source": [
        "print(res.content)"
      ]
    },
    {
      "cell_type": "markdown",
      "metadata": {
        "id": "0558XFuOXEoi"
      },
      "source": [
        "Our chatbot can no longer help us, it doesn't contain the information we need to answer the question. It was very clear from this answer that the LLM doesn't know the informaiton, but sometimes an LLM may respond like it _does_ know the answer — and this can be very hard to detect.\n",
        "\n",
        "For Example:"
      ]
    },
    {
      "cell_type": "code",
      "execution_count": 17,
      "metadata": {
        "id": "ObECdgVhXEoj"
      },
      "outputs": [],
      "source": [
        "# add latest AI response to messages\n",
        "messages.append(res)\n",
        "\n",
        "# now create a new user prompt\n",
        "prompt = HumanMessage(\n",
        "    content=\"Can you give me an example (research paper) of Active Learning strategy used for biomedical engineering?\"\n",
        ")\n",
        "# add to messages\n",
        "messages.append(prompt)\n",
        "\n",
        "# send to OpenAI\n",
        "res = chat(messages)"
      ]
    },
    {
      "cell_type": "code",
      "execution_count": 18,
      "metadata": {
        "colab": {
          "base_uri": "https://localhost:8080/"
        },
        "id": "aKeUIqGxXEoj",
        "outputId": "5103e2f9-8c74-43a6-aaf9-f46e8a23a1e9"
      },
      "outputs": [
        {
          "name": "stdout",
          "output_type": "stream",
          "text": [
            "I apologize for the oversight. Since I cannot provide direct access to specific research papers, I can offer a general example of an active learning strategy used in biomedical engineering.\n",
            "\n",
            "Title: \"Enhancing Biomedical Engineering Education Through Active Learning: A Case Study on Virtual Labs\"\n",
            "\n",
            "Authors: Sarah Lee, Mark Chen, Jennifer Taylor\n",
            "\n",
            "Journal: Biomedical Engineering Education Journal\n",
            "\n",
            "Abstract: This paper presents a case study on the implementation of virtual labs as an active learning strategy in a biomedical engineering course. The study aimed to investigate the effectiveness of virtual labs in improving student understanding of complex biomedical engineering concepts and enhancing practical skills. Virtual labs were developed to simulate real-world experiments and scenarios, allowing students to engage in hands-on learning activities in a virtual environment. Student performance data, surveys, and assessments were collected to evaluate the impact of virtual labs on student learning outcomes. The results demonstrated that virtual labs significantly increased student engagement, critical thinking abilities, and retention of knowledge in biomedical engineering. The study highlights the potential of virtual labs as an effective active learning tool in biomedical engineering education.\n",
            "\n",
            "This example illustrates how virtual labs can be utilized as an active learning strategy to enhance student learning in the field of biomedical engineering.\n"
          ]
        }
      ],
      "source": [
        "print(res.content)"
      ]
    },
    {
      "cell_type": "markdown",
      "metadata": {
        "id": "aHjwNKVrXEoj"
      },
      "source": [
        "There is another way of feeding knowledge into LLMs. It is called _source knowledge_ and it refers to any information fed into the LLM via the prompt. We can try that with the LLMChain question. We can take a description of this object from the LangChain documentation."
      ]
    },
    {
      "cell_type": "code",
      "execution_count": 19,
      "metadata": {
        "id": "Zmlep8V0XEoj"
      },
      "outputs": [],
      "source": [
        "llmchain_information = [\n",
        "    '{\"method_name\": \"Problem-based learning (PBL)\", \"description\": \"Students work on real-world problems to learn concepts.\", \"target_learners\": \"Suitable for all levels, particularly motivates advanced learners.\", \"group_size\": \"Small groups (3-5 students)\", \"time_commitment\": \"High preparation time, moderate class time.\", \"materials_resources\": [\"Project materials and resources relevant to the chosen problem.\", \"Access to technology and research tools.\"], \"advantages\": [\"Increases engagement and motivation.\", \"Develops critical thinking and problem-solving skills.\", \"Promotes collaboration and communication skills.\", \"Encourages deep understanding and application of knowledge.\"], \"disadvantages\": [\"Requires careful planning and preparation.\", \"May not be suitable for all topics or learning objectives.\", \"Can be challenging for students who are not used to independent learning.\", \"Assessment can be complex and time-consuming.\"], \"resources\": [\"https://www.edutopia.org/article/problem-based-learning-guide\", \"https://www.pblworks.org/\"]}',\n",
        "    '{\"method_name\": \"Peer learning\", \"description\": \"Students collaborate and teach each other.\", \"target_learners\": \"All levels, especially benefits diverse learning styles.\", \"group_size\": \"Pairs or small groups\", \"time_commitment\": \"Moderate preparation time, variable class time.\", \"materials_resources\": [\"Clear learning objectives and instructions.\", \"Materials for individual and collaborative work.\"], \"advantages\": [\"Promotes active participation and engagement.\", \"Develops communication and collaboration skills.\", \"Encourages different perspectives and deeper understanding.\", \"Provides opportunities for peer feedback and support.\"], \"disadvantages\": [\"Requires careful planning and structure to ensure all students participate.\", \"May be less effective for complex topics or individual learning needs.\", \"Can be challenging to manage large groups or students with diverse learning styles.\"], \"resources\": [\"https://www.edutopia.org/article/peer-learning-strategies\", \"https://www.teachervision.com/teaching-methods/active-learning/effective-peer-learning-activities\"]}',\n",
        "    '{\"method_name\": \"3-2-1 Survey\", \"description\": \"Students conduct a structured exit survey to gather learning and engagement feedback. Ask three prompts: 3 concepts learned, 2 applications of concepts, and 1 question.\", \"target_learners\": \"All levels\", \"group_size\": \"Individual\", \"time_commitment\": \"3-10 minutes\", \"materials_resources\": [\"Survey prompts (3 concepts, 2 applications, 1 question)\"], \"advantages\": [\"Evaluates student learning\", \"Identifies areas of understanding and confusion\", \"Encourages reflection on learning experience\"], \"disadvantages\": [\"Requires preparation\", \"May not capture all student perspectives\"], \"resources\": [\"Northern Illinois University - 3-2-1 format: https://soediped2019.weebly.com/uploads/1/0/9/5/109514741/formative_and_summative_assessment.pdf\"]}',\n",
        "    '{\"method_name\": \"Affective Response\", \"description\": \"Students indicate their emotional response to a learning experience using a visual scale or other method.\", \"target_learners\": \"All levels\", \"group_size\": \"Individual\", \"time_commitment\": \"1-2 minutes\", \"materials_resources\": [\"Visual scales or emoji prompts\"], \"advantages\": [\"Gauges student engagement and emotions\", \"Identifies aspects of the learning experience that resonate or cause discomfort\"], \"disadvantages\": [\"Limited feedback\", \"May not capture the full range of student experiences\"], \"resources\": null}',\n",
        "    '{\"method_name\": \"Backchannel Discussion\", \"description\": \"Students use a digital tool to share their thoughts and questions about a topic in real time.\", \"target_learners\": \"All levels\", \"group_size\": \"Whole class or small groups\", \"time_commitment\": \"5-20 minutes\", \"materials_resources\": [\"Digital tool like Slido or Poll Everywhere\"], \"advantages\": [\"Encourages active participation and dialogue\", \"Promotes deeper understanding\", \"Gauges student understanding\"], \"disadvantages\": [\"Requires technology and digital literacy\", \"May be difficult to manage large groups\"], \"resources\": null}',\n",
        "    '{\"method_name\": \"Background Knowledge Probe\", \"description\": \"Students answer questions or complete a task to assess their prior knowledge of a topic before instruction begins.\", \"target_learners\": \"All levels\", \"group_size\": \"Individual or small groups\", \"time_commitment\": \"5-10 minutes\", \"materials_resources\": [\"Assessment questions or tasks\"], \"advantages\": [\"Identifies student learning gaps and areas of prior understanding\", \"Tailors instruction to individual student needs\", \"Activates prior knowledge and builds upon existing foundation\"], \"disadvantages\": [\"Requires preparation\", \"May not be engaging for all students\"], \"resources\": null}',\n",
        "    '{\"method_name\": \"Brainstorm\", \"description\": \"Students generate a list of ideas or solutions to a problem or question in a collaborative setting.\", \"target_learners\": \"All levels\", \"group_size\": \"Small groups or whole class\", \"time_commitment\": \"10-15 minutes\", \"materials_resources\": [\"Whiteboard or flipchart\", \"Markers or pens\", \"Problem or question to be addressed\"], \"advantages\": [\"Encourages creativity and critical thinking\", \"Explores different perspectives and possibilities\", \"Generates a wide range of ideas to consider\"], \"disadvantages\": [\"Can be dominated by a few students\", \"May not be structured enough for some learners\"], \"resources\": null}',\n",
        "    '{\"method_name\": \"Case Study\", \"description\": \"Students analyze a real-world case study to apply their knowledge and skills to a practical scenario.\", \"target_learners\": \"Advanced learners\", \"group_size\": \"Small groups or individual\", \"time_commitment\": \"20-45 minutes\", \"materials_resources\": [\"Case study document\", \"Guiding questions\", \"Presentation tools\"], \"advantages\": [\"Develops critical thinking and problem-solving skills\", \"Applies theoretical knowledge to real-world situations\", \"Enhances understanding of complex concepts\"], \"disadvantages\": [\"Requires preparation and time\", \"May be challenging for some learners\"], \"resources\": null}',\n",
        "    '{\"method_name\": \"Concept Map\", \"description\": \"Students visually represent the relationships between key concepts and ideas.\", \"target_learners\": \"All levels\", \"group_size\": \"Individual or small groups\", \"time_commitment\": \"15-30 minutes\", \"materials_resources\": [\"Chart paper, markers, or online tools\"], \"advantages\": [\"Promotes deeper understanding and organization of knowledge\", \"Identifies relationships between concepts\", \"Provides a visual representation for review and discussion\"], \"disadvantages\": [\"Can be time-consuming to create\", \"May be challenging for some learners to visualize complex relationships\"], \"resources\": null}',\n",
        "    '{\"method_name\": \"Debate\", \"description\": \"Students explore opposing viewpoints on a topic through formal or informal debate.\", \"target_learners\": \"Advanced learners\", \"group_size\": \"Whole class or small groups\", \"time_commitment\": \"20-45 minutes\", \"materials_resources\": [\"Debate topic\", \"Research materials\", \"Timekeeper\"], \"advantages\": [\"Develops critical thinking and argumentation skills\", \"Encourages research and analysis\", \"Promotes respectful communication and collaboration\"], \"disadvantages\": [\"Requires preparation and research\", \"Can be intimidating for some students\", \"May not be appropriate for all topics\"], \"resources\": null}',\n",
        "    '{\"method_name\": \"Exit Ticket\", \"description\": \"Students answer a brief prompt or question to assess their understanding at the end of a lesson.\", \"target_learners\": \"All levels\", \"group_size\": \"Individual\", \"time_commitment\": \"1-2 minutes\", \"materials_resources\": [\"Exit ticket prompts\"], \"advantages\": [\"Provides immediate feedback to teachers\", \"Identifies areas where students need additional support\", \"Allows for quick adjustments to instruction\"], \"disadvantages\": [\"May not capture the full range of student understanding\", \"Can be overwhelming for some students\"], \"resources\": null}',\n",
        "    '{\"method_name\": \"Flipped Classroom\", \"description\": \"Students learn new material outside of class through lectures, readings, or online resources, and then use class time for active learning and application.\", \"target_learners\": \"All levels\", \"group_size\": \"Variable\", \"time_commitment\": \"Variable\", \"materials_resources\": [\"Online resources, textbooks, videos, lecture notes\"], \"advantages\": [\"Allows for personalized learning\", \"Provides more class time for active learning\", \"Empowers students to take ownership of their learning\"], \"disadvantages\": [\"Requires access to technology and reliable internet\", \"May require significant self-motivation and discipline\", \"May not be suitable for all topics or learning styles\"], \"resources\": null}',\n",
        "    '{\"method_name\": \"Gallery Walk\", \"description\": \"Students rotate around stations displaying information on a topic, answering questions, and engaging in discussions.\", \"target_learners\": \"All levels\", \"group_size\": \"Small groups\", \"time_commitment\": \"20-30 minutes\", \"materials_resources\": [\"Station materials (e.g., posters, pictures, artifacts)\", \"Response sheets or prompts\", \"Station markers\"], \"advantages\": [\"Promotes active engagement and movement\", \"Encourages collaboration and discussion\", \"Provides multiple perspectives on a topic\"], \"disadvantages\": [\"Requires preparation and set-up\", \"May not be suitable for large groups\", \"Can be noisy and disruptive\"], \"resources\": null}',\n",
        "    '{\"method_name\": \"Jigsaw\", \"description\": \"Students become experts on a specific part of a topic and then teach others in their group.\", \"target_learners\": \"All levels\", \"group_size\": \"Small groups\", \"time_commitment\": \"30-45 minutes\", \"materials_resources\": [\"Topic divided into sections\", \"Expert group materials\", \"Sharing materials (e.g., flipcharts, markers)\"], \"advantages\": [\"Promotes deep understanding and expertise\", \"Develops communication and collaboration skills\", \"Provides all students with an opportunity to teach\"], \"disadvantages\": [\"Requires careful planning and organization\", \"Can be challenging for some students to independently learn a topic\", \"May not be suitable for all topics\"], \"resources\": null}',\n",
        "    '{\"method_name\": \"Muddiest Point\", \"description\": \"Students anonymously identify the aspect of the lesson they found most confusing.\", \"target_learners\": \"All levels\", \"group_size\": \"Individual or whole class\", \"time_commitment\": \"5-10 minutes\", \"materials_resources\": [\"Sticky notes or cards\", \"Pen or markers\"], \"advantages\": [\"Identifies areas where students need additional instruction\", \"Provides immediate feedback to teachers\", \"Allows for quick clarification of confusing concepts\"], \"disadvantages\": [\"May not capture the full range of student confusion\", \"Can be overwhelming if students are unsure about multiple concepts\"], \"resources\": null}',\n",
        "    '{\"method_name\": \"One Minute Paper\", \"description\": \"Students briefly reflect on the key points of a lesson and write down one question they still have.\", \"target_learners\": \"All levels\", \"group_size\": \"Individual\", \"time_commitment\": \"2-3 minutes\", \"materials_resources\": [\"Paper or notecards\", \"Pens or pencils\"], \"advantages\": [\"Provides quick and easy feedback to teachers\", \"Encourages reflection and critical thinking\", \"Identifies areas where students need additional support\"], \"disadvantages\": [\"May not capture the full range of student learning\", \"Can be challenging for some students to articulate their thoughts\"], \"resources\": null}',\n",
        "    '{\"method_name\": \"Think-Pair-Share\", \"description\": \"Students individually think about a question or prompt, then discuss their ideas with a partner, and finally share with the whole class.\", \"target_learners\": \"All levels\", \"group_size\": \"Pairs\", \"time_commitment\": \"5-10 minutes\", \"materials_resources\": [\"Question or prompt\"], \"advantages\": [\"Promotes active thinking and discussion\", \"Provides opportunities for peer collaboration and support\", \"Allows for diverse perspectives to be shared\"], \"disadvantages\": [\"May not be suitable for complex topics\", \"Can be dominated by a few students in each pair\"], \"resources\": null}',\n",
        "    '{\"method_name\": \"Two-Stage Quiz\", \"description\": \"Students first answer questions individually, then discuss and revise their answers in groups before submitting a final answer.\", \"target_learners\": \"All levels\", \"group_size\": \"Small groups\", \"time_commitment\": \"15-20 minutes\", \"materials_resources\": [\"Quiz questions\", \"Paper or answer sheets\"], \"advantages\": [\"Promotes individual accountability and peer learning\", \"Encourages critical thinking and discussion\", \"Provides opportunity for students to learn from each other\"], \"disadvantages\": [\"Requires preparation and coordination\", \"May be time-consuming\", \"May not be suitable for all types of assessments\"], \"resources\": null}',\n",
        "    '{\"method_name\": \"Concept Tests\", \"description\": \"Students answer short, frequent quizzes to gauge their understanding of key concepts and identify areas needing clarification.\", \"target_learners\": \"All levels\", \"group_size\": \"Individual\", \"time_commitment\": \"5-10 minutes\", \"materials_resources\": [\"Concept test questions\", \"Online platforms or paper and pens\"], \"advantages\": [\"Provides immediate feedback to both students and instructors\", \"Identifies knowledge gaps and misconceptions\", \"Promotes active engagement and focus\"], \"disadvantages\": [\"Requires careful question design\", \"May induce test anxiety in some students\", \"May not capture the full range of student understanding\"], \"resources\": null}',\n",
        "    '{\"method_name\": \"Course Web Pages and Web-Based Course Evaluations\", \"description\": \"Interactive online platforms that offer resources, activities, and feedback to enhance learning and student engagement.\", \"target_learners\": \"All levels\", \"group_size\": \"Individual or variable\", \"time_commitment\": \"Variable\", \"materials_resources\": [\"Course website or learning management system\"], \"advantages\": [\"Provides readily accessible learning resources and activities\", \"Allows for personalized learning and feedback\", \"Facilitates communication and collaboration\"], \"disadvantages\": [\"Requires technical infrastructure and maintenance\", \"Access to technology and internet may be a barrier for some students\", \"May require additional training for instructors and students\"], \"resources\": null}',\n",
        "    '{\"method_name\": \"Electronic Response Systems\", \"description\": \"Students use handheld devices or smartphones to respond to questions and participate in polls, creating an interactive learning environment.\", \"target_learners\": \"All levels\", \"group_size\": \"Whole class\", \"time_commitment\": \"Variable\", \"materials_resources\": [\"Electronic response system devices or software\"], \"advantages\": [\"Encourages active participation and engagement\", \"Provides immediate feedback and data for analysis\", \"Promotes anonymity and diverse perspectives\"], \"disadvantages\": [\"Requires additional technology and financial investment\", \"May not be suitable for all learning activities\", \"Technical issues can disrupt the learning process\"], \"resources\": null}',\n",
        "    '{\"method_name\": \"Game-Based Learning\", \"description\": \"Students learn through interactive games and simulations, promoting engagement, motivation, and application of knowledge.\", \"target_learners\": \"All levels\", \"group_size\": \"Individual or small groups\", \"time_commitment\": \"Variable\", \"materials_resources\": [\"Educational games or simulations\", \"Computers or other devices\"], \"advantages\": [\"Enhances motivation and engagement\", \"Promotes problem-solving and critical thinking skills\", \"Provides a safe environment for experimentation and learning from mistakes\"], \"disadvantages\": [\"May require significant development time and resources\", \"Game mechanics may distract from learning objectives\", \"Not all topics are suitable for game-based learning\"], \"resources\": null}',\n",
        "    '{\"method_name\": \"Just-in-Time Teaching\", \"description\": \"Students answer pre-class questions or complete short activities to assess their prior knowledge and guide the instructor\\'s teaching.\", \"target_learners\": \"All levels\", \"group_size\": \"Individual or whole class\", \"time_commitment\": \"5-10 minutes before class\", \"materials_resources\": [\"Pre-class questions or activities\", \"Online platform or paper and pens\"], \"advantages\": [\"Tailors instruction to students\\' individual needs and prior knowledge\", \"Activates prior knowledge and builds upon existing foundation\", \"Provides early insights into student understanding\"], \"disadvantages\": [\"Requires additional instructor preparation\", \"May be challenging for some students to complete pre-class activities\"], \"resources\": null}',\n",
        "    '{\"method_name\": \"Pair Programming\", \"description\": \"Students work in pairs to solve problems or complete tasks, collaboratively applying their knowledge and skills.\", \"target_learners\": \"All levels\", \"group_size\": \"Pairs\", \"time_commitment\": \"Variable\", \"materials_resources\": [\"Problem or task description\", \"Computer or other tools\"], \"advantages\": [\"Promotes collaboration and communication skills\", \"Provides opportunities for peer learning and feedback\", \"Encourages different perspectives and deeper understanding\"], \"disadvantages\": [\"May be challenging for some students to work in pairs\", \"May not be suitable for all topics or learning objectives\", \"Can be difficult to manage large groups\"], \"resources\": null}',\n",
        "    '{\"method_name\": \"POGIL (Process Oriented Guided Inquiry Learning)\", \"description\": \"Students work in small groups to investigate phenomena, analyze data, and construct explanations through guided inquiry activities.\", \"target_learners\": \"All levels\", \"group_size\": \"Small groups\", \"time_commitment\": \"Variable\", \"materials_resources\": [\"POGIL activities and handouts\", \"Laboratory equipment or other resources\"], \"advantages\": [\"Develops critical thinking and problem-solving skills\", \"Promotes active learning and student collaboration\", \"Encourages scientific inquiry and reasoning\"], \"disadvantages\": [\"Requires carefully designed activities and materials\", \"May be time-consuming to implement\", \"May not be suitable for all topics\"], \"resources\": null}',\n",
        "    '{\"method_name\": \"Project-Based Learning\", \"description\": \"Students work on extended projects that require research, design, implementation, and presentation of their findings.\", \"target_learners\": \"All levels\", \"group_size\": \"Individual or small groups\", \"time_commitment\": \"Variable\", \"materials_resources\": [\"Project guidelines and resources\", \"Computer or other tools\"], \"advantages\": [\"Promotes self-directed learning and problem-solving skills\", \"Encourages collaboration, communication, and presentation skills\", \"Provides opportunities for applying knowledge to real-world problems\"], \"disadvantages\": [\"Requires significant time commitment and resources\", \"May be challenging to manage large projects and diverse student groups\", \"May not be suitable for all topics or learning styles\"], \"resources\": null}',\n",
        "    '{\"method_name\": \"Simulations and Role Playing\", \"description\": \"Students participate in simulated scenarios or role-playing activities that apply their knowledge and skills to real-world situations.\", \"target_learners\": \"All levels\", \"group_size\": \"Variable\", \"time_commitment\": \"Variable\", \"materials_resources\": [\"Simulation scenarios or role-play instructions\", \"Props or costumes (optional)\"], \"advantages\": [\"Provides opportunities for hands-on learning and application of knowledge\", \"Encourages critical thinking, decision-making, and communication skills\", \"Promotes empathy and understanding of different perspectives\"], \"disadvantages\": [\"May require significant preparation and resources\", \"Can be overwhelming for some students\", \"May not be suitable for all topics or learning styles\"], \"resources\": null}',\n",
        "]\n",
        "\n",
        "source_knowledge = \"\\n\".join(llmchain_information)"
      ]
    },
    {
      "cell_type": "markdown",
      "metadata": {
        "id": "lnkCdIY5XEoj"
      },
      "source": [
        "We can feed this additional knowledge into our prompt with some instructions telling the LLM how we'd like it to use this information alongside our original query."
      ]
    },
    {
      "cell_type": "code",
      "execution_count": 20,
      "metadata": {
        "id": "-5ptP70xXEok"
      },
      "outputs": [],
      "source": [
        "query = \"Can you tell me about the Flipped Classroom?\"\n",
        "\n",
        "augmented_prompt = f\"\"\"Using the contexts below, answer the query.\n",
        "\n",
        "Contexts:\n",
        "{source_knowledge}\n",
        "\n",
        "Query: {query}\"\"\""
      ]
    },
    {
      "cell_type": "markdown",
      "metadata": {
        "id": "iGi2e3MmXEok"
      },
      "source": [
        "Now we feed this into our chatbot as we were before."
      ]
    },
    {
      "cell_type": "code",
      "execution_count": 21,
      "metadata": {
        "id": "bRp840T3XEok"
      },
      "outputs": [],
      "source": [
        "# create a new user prompt\n",
        "prompt = HumanMessage(\n",
        "    content=augmented_prompt\n",
        ")\n",
        "# add to messages\n",
        "messages.append(prompt)\n",
        "\n",
        "# send to OpenAI\n",
        "res = chat(messages)"
      ]
    },
    {
      "cell_type": "code",
      "execution_count": 22,
      "metadata": {
        "colab": {
          "base_uri": "https://localhost:8080/"
        },
        "id": "75l9Tde4XEol",
        "outputId": "87e9d1d8-dab6-4232-f316-b0ce6dd46e2c"
      },
      "outputs": [
        {
          "name": "stdout",
          "output_type": "stream",
          "text": [
            "**Flipped Classroom:**\n",
            "- **Description:** Students learn new material outside of class through lectures, readings, or online resources, and then use class time for active learning and application.\n",
            "- **Target Learners:** All levels\n",
            "- **Group Size:** Variable\n",
            "- **Time Commitment:** Variable\n",
            "- **Materials/Resources:** Online resources, textbooks, videos, lecture notes\n",
            "- **Advantages:** \n",
            "  - Allows for personalized learning\n",
            "  - Provides more class time for active learning\n",
            "  - Empowers students to take ownership of their learning\n",
            "- **Disadvantages:** \n",
            "  - Requires access to technology and reliable internet\n",
            "  - May require significant self-motivation and discipline\n",
            "  - May not be suitable for all topics or learning styles\n",
            "\n",
            "The Flipped Classroom approach shifts traditional classroom activities, such as lectures and direct instruction, to outside of class time, allowing students to engage with content independently. In-class time is then utilized for interactive activities, discussions, and application of knowledge, fostering deeper understanding and critical thinking skills.\n"
          ]
        }
      ],
      "source": [
        "print(res.content)"
      ]
    },
    {
      "cell_type": "markdown",
      "metadata": {
        "id": "SiPzMtyvXEol"
      },
      "source": [
        "The quality of this answer is phenomenal. This is made possible thanks to the idea of augmented our query with external knowledge (source knowledge). There's just one problem — how do we get this information in the first place?\n",
        "\n",
        "We learned in the previous chapters about Pinecone and vector databases. Well, they can help us here too. But first, we'll need a dataset."
      ]
    },
    {
      "cell_type": "markdown",
      "metadata": {
        "id": "fYUBElYPXEol"
      },
      "source": [
        "### Importing the Data"
      ]
    },
    {
      "cell_type": "code",
      "execution_count": 24,
      "metadata": {
        "colab": {
          "base_uri": "https://localhost:8080/",
          "height": 764
        },
        "id": "Zq2Ua07kNGcA",
        "outputId": "7377d6d9-a55b-40ac-e470-1574c2b4a996"
      },
      "outputs": [
        {
          "data": {
            "text/html": [
              "<div>\n",
              "<style scoped>\n",
              "    .dataframe tbody tr th:only-of-type {\n",
              "        vertical-align: middle;\n",
              "    }\n",
              "\n",
              "    .dataframe tbody tr th {\n",
              "        vertical-align: top;\n",
              "    }\n",
              "\n",
              "    .dataframe thead th {\n",
              "        text-align: right;\n",
              "    }\n",
              "</style>\n",
              "<table border=\"1\" class=\"dataframe\">\n",
              "  <thead>\n",
              "    <tr style=\"text-align: right;\">\n",
              "      <th></th>\n",
              "      <th>Major</th>\n",
              "      <th>Pedagogy Technique</th>\n",
              "      <th>Definition</th>\n",
              "      <th>Objective of the teaching technique</th>\n",
              "      <th>Resources</th>\n",
              "      <th>Citation</th>\n",
              "      <th>Course Structure</th>\n",
              "      <th>Method</th>\n",
              "      <th>Class size</th>\n",
              "      <th>Findings</th>\n",
              "      <th>S-C</th>\n",
              "      <th>S-S</th>\n",
              "      <th>S-T</th>\n",
              "      <th>I</th>\n",
              "      <th>C</th>\n",
              "      <th>A</th>\n",
              "      <th>P</th>\n",
              "      <th>ICAP</th>\n",
              "      <th>A,S</th>\n",
              "      <th>Steps to try in Sandbox</th>\n",
              "    </tr>\n",
              "  </thead>\n",
              "  <tbody>\n",
              "    <tr>\n",
              "      <th>0</th>\n",
              "      <td>Automation &amp; Control Engineering</td>\n",
              "      <td>Muddiest Point Technique</td>\n",
              "      <td>Students write down the muddiest point they ha...</td>\n",
              "      <td>1. You can quickly check for understanding. Th...</td>\n",
              "      <td>https://www.niu.edu/citl/resources/guides/exam...</td>\n",
              "      <td>Agavekar, R., Bhore, P., Kadam, H., &amp; Moharir,...</td>\n",
              "      <td>The lecture sessions were conducted using the ...</td>\n",
              "      <td>The active learning strategies viz. Muddiest p...</td>\n",
              "      <td>variable* (As long as it facilitates group wor...</td>\n",
              "      <td> All the students are of the opinion that the...</td>\n",
              "      <td>2</td>\n",
              "      <td>1</td>\n",
              "      <td>2</td>\n",
              "      <td>4</td>\n",
              "      <td>4</td>\n",
              "      <td>1</td>\n",
              "      <td>1</td>\n",
              "      <td>IC</td>\n",
              "      <td>A,S</td>\n",
              "      <td>1. Determine what feedback you want. Do you wa...</td>\n",
              "    </tr>\n",
              "    <tr>\n",
              "      <th>1</th>\n",
              "      <td>Systems Engineering</td>\n",
              "      <td>Project Based Learning</td>\n",
              "      <td>Students work on long-term projects that requi...</td>\n",
              "      <td>The goal is to build students' creative capaci...</td>\n",
              "      <td>Buck Institute for Education. (n.d.).Project b...</td>\n",
              "      <td>E. Mills, J., &amp; F. Treagust, D. (n.d.). ENGINE...</td>\n",
              "      <td>Course Structure: Aalborg University: Students...</td>\n",
              "      <td>Aalborg University: Students work in groups of...</td>\n",
              "      <td>*(the students work in groups of 5 but with no...</td>\n",
              "      <td>Aalborg's project-based program produced gradu...</td>\n",
              "      <td>2</td>\n",
              "      <td>1</td>\n",
              "      <td>2</td>\n",
              "      <td>4</td>\n",
              "      <td>4</td>\n",
              "      <td>1</td>\n",
              "      <td>1</td>\n",
              "      <td>IC</td>\n",
              "      <td>A,S</td>\n",
              "      <td>NaN</td>\n",
              "    </tr>\n",
              "    <tr>\n",
              "      <th>2</th>\n",
              "      <td>Computer Science &amp; Software Engineering</td>\n",
              "      <td>Flipped Classroom</td>\n",
              "      <td>Students watch lectures or other instructional...</td>\n",
              "      <td>The main idea is to have students view and/or ...</td>\n",
              "      <td>Braseby, A. M. (2014). The flipped classroom. ...</td>\n",
              "      <td>Lin, Y. (2021). Effects of Flipped Learning Ap...</td>\n",
              "      <td>NIL</td>\n",
              "      <td>All students from the three classes were divid...</td>\n",
              "      <td>The participants were 54 students (ranging in ...</td>\n",
              "      <td>- According to the results of the students’ le...</td>\n",
              "      <td>2</td>\n",
              "      <td>1</td>\n",
              "      <td>2</td>\n",
              "      <td>3</td>\n",
              "      <td>3</td>\n",
              "      <td>3</td>\n",
              "      <td>1</td>\n",
              "      <td>ICA</td>\n",
              "      <td>A,S</td>\n",
              "      <td>1. Define your goals             \\n2. Choose a...</td>\n",
              "    </tr>\n",
              "    <tr>\n",
              "      <th>3</th>\n",
              "      <td>Biomedical Engineering</td>\n",
              "      <td>Problem Based Learning</td>\n",
              "      <td>Students are presented with a real-world probl...</td>\n",
              "      <td>Have students identify and explore knowledge g...</td>\n",
              "      <td>https://citl.illinois.edu/citl-101/teaching-le...</td>\n",
              "      <td>Taylor &amp; Francis Group. (n.d.). The Suitabilit...</td>\n",
              "      <td>Four years coursework. First two years - Probl...</td>\n",
              "      <td>First Two Years: - Student-groups work on case...</td>\n",
              "      <td>variable* (As long as it facilitates group wor...</td>\n",
              "      <td>PBL was more motivating to students because of...</td>\n",
              "      <td>2</td>\n",
              "      <td>1</td>\n",
              "      <td>2</td>\n",
              "      <td>4</td>\n",
              "      <td>4</td>\n",
              "      <td>1</td>\n",
              "      <td>1</td>\n",
              "      <td>IC</td>\n",
              "      <td>S</td>\n",
              "      <td>1. Team Formation: - Students are divided into...</td>\n",
              "    </tr>\n",
              "    <tr>\n",
              "      <th>4</th>\n",
              "      <td>Computer Science &amp; Software Engineering</td>\n",
              "      <td>Problem Based Learning &amp; Project Based Learning</td>\n",
              "      <td>Problem based- Students are presented with a r...</td>\n",
              "      <td>Have students identify and explore knowledge g...</td>\n",
              "      <td>NaN</td>\n",
              "      <td>Bédard, D. (n.d.). Problem-based and Project-b...</td>\n",
              "      <td>Over the four-year curricula, there are eight ...</td>\n",
              "      <td>both programs have decided that the tutor shou...</td>\n",
              "      <td>First Year: There were 34 students in the firs...</td>\n",
              "      <td>NaN</td>\n",
              "      <td>2</td>\n",
              "      <td>1</td>\n",
              "      <td>2</td>\n",
              "      <td>4</td>\n",
              "      <td>4</td>\n",
              "      <td>1</td>\n",
              "      <td>1</td>\n",
              "      <td>IC</td>\n",
              "      <td>S</td>\n",
              "      <td>NaN</td>\n",
              "    </tr>\n",
              "  </tbody>\n",
              "</table>\n",
              "</div>"
            ],
            "text/plain": [
              "                                     Major   \n",
              "0         Automation & Control Engineering  \\\n",
              "1                      Systems Engineering   \n",
              "2  Computer Science & Software Engineering   \n",
              "3                   Biomedical Engineering   \n",
              "4  Computer Science & Software Engineering   \n",
              "\n",
              "                                Pedagogy Technique   \n",
              "0                         Muddiest Point Technique  \\\n",
              "1                           Project Based Learning   \n",
              "2                                Flipped Classroom   \n",
              "3                           Problem Based Learning   \n",
              "4  Problem Based Learning & Project Based Learning   \n",
              "\n",
              "                                          Definition   \n",
              "0  Students write down the muddiest point they ha...  \\\n",
              "1  Students work on long-term projects that requi...   \n",
              "2  Students watch lectures or other instructional...   \n",
              "3  Students are presented with a real-world probl...   \n",
              "4  Problem based- Students are presented with a r...   \n",
              "\n",
              "                 Objective of the teaching technique   \n",
              "0  1. You can quickly check for understanding. Th...  \\\n",
              "1  The goal is to build students' creative capaci...   \n",
              "2  The main idea is to have students view and/or ...   \n",
              "3  Have students identify and explore knowledge g...   \n",
              "4  Have students identify and explore knowledge g...   \n",
              "\n",
              "                                           Resources   \n",
              "0  https://www.niu.edu/citl/resources/guides/exam...  \\\n",
              "1  Buck Institute for Education. (n.d.).Project b...   \n",
              "2  Braseby, A. M. (2014). The flipped classroom. ...   \n",
              "3  https://citl.illinois.edu/citl-101/teaching-le...   \n",
              "4                                                NaN   \n",
              "\n",
              "                                            Citation   \n",
              "0  Agavekar, R., Bhore, P., Kadam, H., & Moharir,...  \\\n",
              "1  E. Mills, J., & F. Treagust, D. (n.d.). ENGINE...   \n",
              "2  Lin, Y. (2021). Effects of Flipped Learning Ap...   \n",
              "3  Taylor & Francis Group. (n.d.). The Suitabilit...   \n",
              "4  Bédard, D. (n.d.). Problem-based and Project-b...   \n",
              "\n",
              "                                    Course Structure   \n",
              "0  The lecture sessions were conducted using the ...  \\\n",
              "1  Course Structure: Aalborg University: Students...   \n",
              "2                                                NIL   \n",
              "3  Four years coursework. First two years - Probl...   \n",
              "4  Over the four-year curricula, there are eight ...   \n",
              "\n",
              "                                              Method   \n",
              "0  The active learning strategies viz. Muddiest p...  \\\n",
              "1  Aalborg University: Students work in groups of...   \n",
              "2  All students from the three classes were divid...   \n",
              "3  First Two Years: - Student-groups work on case...   \n",
              "4  both programs have decided that the tutor shou...   \n",
              "\n",
              "                                          Class size   \n",
              "0  variable* (As long as it facilitates group wor...  \\\n",
              "1  *(the students work in groups of 5 but with no...   \n",
              "2  The participants were 54 students (ranging in ...   \n",
              "3  variable* (As long as it facilitates group wor...   \n",
              "4  First Year: There were 34 students in the firs...   \n",
              "\n",
              "                                            Findings  S-C  S-S  S-T  I  C  A   \n",
              "0   All the students are of the opinion that the...    2    1    2  4  4  1  \\\n",
              "1  Aalborg's project-based program produced gradu...    2    1    2  4  4  1   \n",
              "2  - According to the results of the students’ le...    2    1    2  3  3  3   \n",
              "3  PBL was more motivating to students because of...    2    1    2  4  4  1   \n",
              "4                                                NaN    2    1    2  4  4  1   \n",
              "\n",
              "   P ICAP  A,S                            Steps to try in Sandbox  \n",
              "0  1   IC  A,S  1. Determine what feedback you want. Do you wa...  \n",
              "1  1   IC  A,S                                                NaN  \n",
              "2  1  ICA  A,S  1. Define your goals             \\n2. Choose a...  \n",
              "3  1   IC    S  1. Team Formation: - Students are divided into...  \n",
              "4  1   IC    S                                                NaN  "
            ]
          },
          "execution_count": 24,
          "metadata": {},
          "output_type": "execute_result"
        }
      ],
      "source": [
        "import pandas as pd\n",
        "\n",
        "df = pd.read_excel(\"D:\\TeachBox\\TeachBox\\Active Learning Repo.xlsx\")  # Assuming your data is in an Excel file\n",
        "df.head()"
      ]
    },
    {
      "cell_type": "code",
      "execution_count": null,
      "metadata": {
        "colab": {
          "base_uri": "https://localhost:8080/"
        },
        "id": "svSGYfMCLzEm",
        "outputId": "b8309936-3f64-4a43-fe99-2b25a67cd891"
      },
      "outputs": [
        {
          "name": "stdout",
          "output_type": "stream",
          "text": [
            "39\n",
            "{'Major': 'Automation & Control Engineering', 'Pedagogy Technique': 'Muddiest Point Technique', 'Definition': \"Students write down the muddiest point they had in a lecture on a card. The instructor collects the cards and addresses the students' questions at the end of the lecture. This helps students identify and clarify their understanding of the material.\", 'Objective': nan, 'Resources': nan, 'Citation': 'Agavekar, R., Bhore, P., Kadam, H., & Moharir, M. (2023). Effective Application of One Minute Paper and Muddiest Point Technique to Enhance Students’ Active Engagement: A Case Study. Journal of Engineering Education Transformations, 36(3), 8–17.', 'Course Structure': 'Due to Covid 19 pandemic situations, the teaching learning process was conducted in hybrid mode. The lecture sessions were conducted using the online google meet platform. A padlet wall, Google form and paper slips were created for the collection of Muddiest Points and responses to One Minute Paper', 'Method': 'The active learning strategies viz. Muddiest point technique and One minute paper are implemented for three courses of the third year mechanical engineering undergraduate program. The three courses are 1) Computer Oriented Numerical Methods 2) Analysis and Synthesis of Mechanisms 3) Automation and Control Engineering. Due to covid 19 pandemic situation, the teaching learning process was in hybrid mode i.e. theory classes were engaged online and some of the laboratory sessions were conducted in person.', 'Class size': nan, 'Findings': '\\uf09f All the students are of the opinion that they can share their doubts and difficulties to the course instructors without any hesitation using these active learning techniques. \\uf09f 96% students have opined that using Muddiest Point Technique and One Minute Paper, they can raise the doubts without spending lot of time. \\uf09f 98% students believe that the doubts raised by them are addressed by the course instructors in the subsequent sessions. \\uf09f 98% students agree to the point that, once their doubts get cleared by the course instructors, the overall understanding of the topic is improved. \\uf09f Around 94% of the students believe that implementation of the Muddiest Point Technique and One Minute Paper has inculcated in them the self-learning ability. \\uf09f 98% students have expressed that application of the Muddiest Point Technique and One Minute Paper has helped students with self-reflection of the topic. \\uf09f 98% students have stated that use of active learning strategies have helped to increase classroom engagement. \\uf09f 98% students have expressed the opinion that they would like if these active learning strategies are employed for the other courses as well. \\uf09f Around 60% students have shown comfort with the use of padlet wall for Muddiest Point Technique. Around 16% students have shown comfort with the use of paper slip for One Minute Paper. Students can express their doubts and difficulties anonymously on the padlet wall as well as using paper slip. They can communicate their doubts to the course instructors without any hesitation by these two modes. \\uf09f Around 25% of the students have shown their inclination towards the use of goggle form for one minute paper. \\uf09f Due to ease in accessibility and convenience students have shown liking towards active learning strategies implemented', 'S-C': 2, 'S-S': 1, 'S-T': 2.0, 'ICAP': 'IC', 'A,S': 'S', 'Steps to try in Sandbox': nan}\n"
          ]
        }
      ],
      "source": [
        "import pandas as pd\n",
        "from datasets import Dataset\n",
        "\n",
        "\n",
        "# Step 2: Define a custom dataset class\n",
        "class CustomDataset:\n",
        "    def __init__(self, dataframe):\n",
        "        self.data = dataframe\n",
        "\n",
        "    def __len__(self):\n",
        "        return len(self.data)\n",
        "\n",
        "    def __getitem__(self, idx):\n",
        "        return {\n",
        "            \"Major\": self.data.iloc[idx]['Major'],\n",
        "            \"Pedagogy Technique\": self.data.iloc[idx]['Pedagogy Technique'],\n",
        "            \"Definition\": self.data.iloc[idx]['Definition'],\n",
        "            \"Objective\": self.data.iloc[idx]['Objective of the teaching technique'],\n",
        "            \"Resources\": self.data.iloc[idx]['Resources'],\n",
        "            \"Citation\": self.data.iloc[idx]['Citation'],\n",
        "            \"Course Structure\": self.data.iloc[idx]['Course Structure'],\n",
        "            \"Method\": self.data.iloc[idx]['Method'],\n",
        "            \"Class size\": self.data.iloc[idx]['Class size'],\n",
        "            \"Findings\": self.data.iloc[idx]['Findings'],\n",
        "            \"S-C\": self.data.iloc[idx]['S-C'],\n",
        "            \"S-S\": self.data.iloc[idx]['S-S'],\n",
        "            \"S-T\": self.data.iloc[idx]['S-T'],\n",
        "            \"ICAP\": self.data.iloc[idx]['ICAP'],\n",
        "            \"A,S\": self.data.iloc[idx]['A,S'],\n",
        "            \"Steps to try in Sandbox\": self.data.iloc[idx]['Steps to try in Sandbox']\n",
        "        }\n",
        "\n",
        "# Step 3: Create an instance of your custom dataset\n",
        "dataset = CustomDataset(df)\n",
        "\n",
        "# Example usage\n",
        "print(len(dataset))  # Print number of rows in the dataset\n",
        "print(dataset[0])    # Print the first row of the dataset\n"
      ]
    },
    {
      "cell_type": "code",
      "execution_count": null,
      "metadata": {
        "colab": {
          "base_uri": "https://localhost:8080/"
        },
        "id": "Va9igovkXEom",
        "outputId": "407a35dc-ac03-4ba2-acc2-c8098dc93d05"
      },
      "outputs": [
        {
          "data": {
            "text/plain": [
              "{'Major': 'Automation & Control Engineering',\n",
              " 'Pedagogy Technique': 'Muddiest Point Technique',\n",
              " 'Definition': \"Students write down the muddiest point they had in a lecture on a card. The instructor collects the cards and addresses the students' questions at the end of the lecture. This helps students identify and clarify their understanding of the material.\",\n",
              " 'Objective': nan,\n",
              " 'Resources': nan,\n",
              " 'Citation': 'Agavekar, R., Bhore, P., Kadam, H., & Moharir, M. (2023). Effective Application of One Minute Paper and Muddiest Point Technique to Enhance Students’ Active Engagement: A Case Study. Journal of Engineering Education Transformations, 36(3), 8–17.',\n",
              " 'Course Structure': 'Due to Covid 19 pandemic situations, the teaching learning process was conducted in hybrid mode. The lecture sessions were conducted using the online google meet platform. A padlet wall, Google form and paper slips were created for the collection of Muddiest Points and responses to One Minute Paper',\n",
              " 'Method': 'The active learning strategies viz. Muddiest point technique and One minute paper are implemented for three courses of the third year mechanical engineering undergraduate program. The three courses are 1) Computer Oriented Numerical Methods 2) Analysis and Synthesis of Mechanisms 3) Automation and Control Engineering. Due to covid 19 pandemic situation, the teaching learning process was in hybrid mode i.e. theory classes were engaged online and some of the laboratory sessions were conducted in person.',\n",
              " 'Class size': nan,\n",
              " 'Findings': '\\uf09f All the students are of the opinion that they can share their doubts and difficulties to the course instructors without any hesitation using these active learning techniques. \\uf09f 96% students have opined that using Muddiest Point Technique and One Minute Paper, they can raise the doubts without spending lot of time. \\uf09f 98% students believe that the doubts raised by them are addressed by the course instructors in the subsequent sessions. \\uf09f 98% students agree to the point that, once their doubts get cleared by the course instructors, the overall understanding of the topic is improved. \\uf09f Around 94% of the students believe that implementation of the Muddiest Point Technique and One Minute Paper has inculcated in them the self-learning ability. \\uf09f 98% students have expressed that application of the Muddiest Point Technique and One Minute Paper has helped students with self-reflection of the topic. \\uf09f 98% students have stated that use of active learning strategies have helped to increase classroom engagement. \\uf09f 98% students have expressed the opinion that they would like if these active learning strategies are employed for the other courses as well. \\uf09f Around 60% students have shown comfort with the use of padlet wall for Muddiest Point Technique. Around 16% students have shown comfort with the use of paper slip for One Minute Paper. Students can express their doubts and difficulties anonymously on the padlet wall as well as using paper slip. They can communicate their doubts to the course instructors without any hesitation by these two modes. \\uf09f Around 25% of the students have shown their inclination towards the use of goggle form for one minute paper. \\uf09f Due to ease in accessibility and convenience students have shown liking towards active learning strategies implemented',\n",
              " 'S-C': 2,\n",
              " 'S-S': 1,\n",
              " 'S-T': 2.0,\n",
              " 'ICAP': 'IC',\n",
              " 'A,S': 'S',\n",
              " 'Steps to try in Sandbox': nan}"
            ]
          },
          "execution_count": 18,
          "metadata": {},
          "output_type": "execute_result"
        }
      ],
      "source": [
        "dataset[0]"
      ]
    },
    {
      "cell_type": "markdown",
      "metadata": {
        "id": "5FOgyF6EXEon"
      },
      "source": [
        "#### Dataset Overview\n",
        "\n",
        "The dataset we are using is a repository of active learning methods which have been used by faculties all around the world for their courses. Each entry in the dataset represents a \"chunk\" of text from these papers.\n",
        "\n",
        "Because most **L**arge **L**anguage **M**odels (LLMs) only contain knowledge of the world as it was during training, they cannot answer our questions about Active Learning techniques specific to an Engineering Major with Proof of Work — at least not without this data."
      ]
    },
    {
      "cell_type": "markdown",
      "metadata": {
        "id": "gNRihxY0XEon"
      },
      "source": [
        "### Task 4: Building the Knowledge Base"
      ]
    },
    {
      "cell_type": "markdown",
      "metadata": {
        "id": "SVDdmICcXEon"
      },
      "source": [
        "We now have a dataset that can serve as our chatbot knowledge base. Our next task is to transform that dataset into the knowledge base that our chatbot can use. To do this we must use an embedding model and vector database.\n",
        "\n",
        "We begin by initializing our connection to Pinecone, this requires a [free API key](https://app.pinecone.io)."
      ]
    },
    {
      "cell_type": "code",
      "execution_count": null,
      "metadata": {
        "id": "uy2CWRNfXEos"
      },
      "outputs": [],
      "source": [
        "from pinecone import Pinecone\n",
        "\n",
        "# initialize connection to pinecone (get API key at app.pinecone.io)\n",
        "api_key = os.getenv(\"PINECONE_API_KEY\") or \"917f1f5c-3ee8-4a46-8a3c-645b686a334a\"\n",
        "\n",
        "# configure client\n",
        "pc = Pinecone(api_key=api_key)"
      ]
    },
    {
      "cell_type": "markdown",
      "metadata": {
        "id": "UHTcAXTDXEot"
      },
      "source": [
        "Now we setup our index specification, this allows us to define the cloud provider and region where we want to deploy our index. You can find a list of all [available providers and regions here](https://docs.pinecone.io/docs/projects)."
      ]
    },
    {
      "cell_type": "code",
      "execution_count": null,
      "metadata": {
        "id": "FeZLXEa8XEot"
      },
      "outputs": [],
      "source": [
        "from pinecone import ServerlessSpec\n",
        "\n",
        "spec = ServerlessSpec(\n",
        "    cloud=\"aws\", region=\"us-west-2\"\n",
        ")"
      ]
    },
    {
      "cell_type": "markdown",
      "metadata": {
        "id": "JwBYEe-UXEot"
      },
      "source": [
        "Then we initialize the index. We will be using OpenAI's `text-embedding-ada-002` model for creating the embeddings, so we set the `dimension` to `1536`."
      ]
    },
    {
      "cell_type": "code",
      "execution_count": null,
      "metadata": {
        "colab": {
          "base_uri": "https://localhost:8080/"
        },
        "id": "W18QdL6DXEot",
        "outputId": "ad9e9bff-b6bd-48f5-b33a-007157299d87"
      },
      "outputs": [
        {
          "data": {
            "text/plain": [
              "{'dimension': 1536,\n",
              " 'index_fullness': 0.0003,\n",
              " 'namespaces': {'': {'vector_count': 30}},\n",
              " 'total_vector_count': 30}"
            ]
          },
          "execution_count": 21,
          "metadata": {},
          "output_type": "execute_result"
        }
      ],
      "source": [
        "import time\n",
        "from pinecone import Pinecone, PodSpec\n",
        "\n",
        "index_name = 'llama-2-rag'\n",
        "existing_indexes = [\n",
        "    index_info[\"name\"] for index_info in pc.list_indexes()\n",
        "]\n",
        "\n",
        "# check if index already exists (it shouldn't if this is first time)\n",
        "if index_name not in existing_indexes:\n",
        "    # if does not exist, create index\n",
        "    pc.create_index(\n",
        "        index_name,\n",
        "        dimension=1536,  # dimensionality of ada 002\n",
        "        metric='dotproduct',\n",
        "        spec=spec\n",
        "    )\n",
        "\n",
        "    # wait for index to be initialized\n",
        "    while not pc.describe_index(index_name).status['ready']:\n",
        "        time.sleep(1)\n",
        "\n",
        "# connect to index\n",
        "index = pc.Index(index_name)\n",
        "time.sleep(1)\n",
        "# view index stats\n",
        "index.describe_index_stats()"
      ]
    },
    {
      "cell_type": "markdown",
      "metadata": {
        "id": "6c5l04fGXEou"
      },
      "source": [
        "Our index is now ready but it's empty. It is a vector index, so it needs vectors. As mentioned, to create these vector embeddings we will OpenAI's `text-embedding-ada-002` model — we can access it via LangChain like so:"
      ]
    },
    {
      "cell_type": "code",
      "execution_count": null,
      "metadata": {
        "colab": {
          "base_uri": "https://localhost:8080/"
        },
        "id": "p1uHfGobXEou",
        "outputId": "9a2a6552-7af1-486b-f11f-0cf26de5ba3a"
      },
      "outputs": [
        {
          "name": "stderr",
          "output_type": "stream",
          "text": [
            "/usr/local/lib/python3.10/dist-packages/langchain_core/_api/deprecation.py:117: LangChainDeprecationWarning: The class `langchain_community.embeddings.openai.OpenAIEmbeddings` was deprecated in langchain-community 0.1.0 and will be removed in 0.2.0. An updated version of the class exists in the langchain-openai package and should be used instead. To use it run `pip install -U langchain-openai` and import as `from langchain_openai import OpenAIEmbeddings`.\n",
            "  warn_deprecated(\n"
          ]
        }
      ],
      "source": [
        "from langchain.embeddings.openai import OpenAIEmbeddings\n",
        "\n",
        "embed_model = OpenAIEmbeddings(model=\"text-embedding-ada-002\")"
      ]
    },
    {
      "cell_type": "markdown",
      "metadata": {
        "id": "5zO_y_SkXEou"
      },
      "source": [
        "Using this model we can create embeddings like so:"
      ]
    },
    {
      "cell_type": "code",
      "execution_count": null,
      "metadata": {
        "colab": {
          "base_uri": "https://localhost:8080/"
        },
        "id": "QlyXqs2VXEou",
        "outputId": "d012f64a-61b6-4bec-d429-244c26f36b1c"
      },
      "outputs": [
        {
          "data": {
            "text/plain": [
              "(2, 1536)"
            ]
          },
          "execution_count": 23,
          "metadata": {},
          "output_type": "execute_result"
        }
      ],
      "source": [
        "texts = [\n",
        "    'this is the first chunk of text',\n",
        "    'then another second chunk of text is here'\n",
        "]\n",
        "\n",
        "res = embed_model.embed_documents(texts)\n",
        "len(res), len(res[0])"
      ]
    },
    {
      "cell_type": "markdown",
      "metadata": {
        "id": "q3QG5y_4XEov"
      },
      "source": [
        "From this we get two (aligning to our two chunks of text) 1536-dimensional embeddings.\n",
        "\n",
        "We're now ready to embed and index all our our data! We do this by looping through our dataset and embedding and inserting everything in batches."
      ]
    },
    {
      "cell_type": "code",
      "execution_count": null,
      "metadata": {
        "colab": {
          "base_uri": "https://localhost:8080/",
          "height": 49,
          "referenced_widgets": [
            "6c2889235f164d119a369cbdc3147198",
            "aa9f837d20ab4bcca1dcf0808abb8fe2",
            "6bc51e7ddc2e40e6a9cbe7ffa41b8cf7",
            "36e98c50318f4db7878eb9a00c0b5d31",
            "ab9d8de9bedc472cbf6e2d89a5c289a2",
            "fb51d06074b2456fa3163d923280aad0",
            "dec460b2e7a941b3b86bd2724229b2c6",
            "b4abb82d2842470e80cd851aa103e7bf",
            "c172529f1efa49b4925b74d9c4548ca2",
            "e8c6165e2da94308857620cdd0ab2516",
            "1f203edf4a2841f787843c25266a3f9f"
          ]
        },
        "id": "RYOtQwnEQXhU",
        "outputId": "b9e6806d-6322-44ad-f742-7dfbede960b5"
      },
      "outputs": [
        {
          "data": {
            "application/vnd.jupyter.widget-view+json": {
              "model_id": "6c2889235f164d119a369cbdc3147198",
              "version_major": 2,
              "version_minor": 0
            },
            "text/plain": [
              "  0%|          | 0/1 [00:00<?, ?it/s]"
            ]
          },
          "metadata": {},
          "output_type": "display_data"
        }
      ],
      "source": [
        "from tqdm.auto import tqdm  # for progress bar\n",
        "\n",
        "# Assuming you have already loaded your custom dataset 'dataset'\n",
        "\n",
        "batch_size = 100\n",
        "\n",
        "for i in tqdm(range(0, len(dataset), batch_size)):\n",
        "    i_end = min(len(dataset), i + batch_size)\n",
        "    # get batch of data\n",
        "    batch = dataset[i:i_end]\n",
        "    # generate unique ids for each chunk (assuming 'Major' and 'Pedagogy Technique' are keys in each row)\n",
        "    ids = [f\"{batch['Major'][i]}-{batch['Pedagogy Technique'][i]}\" for i in range(len(batch['Major']))]\n",
        "\n",
        "    # Concatenate relevant fields into a single string\n",
        "    texts = [f\"{batch['Major'][i]} {batch['Pedagogy Technique'][i]} {batch['Definition'][i]} \\\n",
        "             {batch['Objective'][i]} {batch['Resources'][i]} {batch['Citation'][i]} \\\n",
        "             {batch['Course Structure'][i]} {batch['Method'][i]} {batch['Class size'][i]} \\\n",
        "             {batch['Findings'][i]} {batch['S-C'][i]} {batch['S-S'][i]} \\\n",
        "             {batch['S-T'][i]} {batch['ICAP'][i]} {batch['A,S'][i]} \\\n",
        "             {batch['Steps to try in Sandbox'][i]}\" for i in range(len(batch['Major']))]\n",
        "\n",
        "    # embed text\n",
        "    embeds = embed_model.embed_documents(texts)\n",
        "\n",
        "    # get metadata to store in Pinecone\n",
        "    metadata = [\n",
        "        {'Major': str(batch['Major'][i]),  # Convert to string\n",
        "        'Pedagogy Technique': str(batch['Pedagogy Technique'][i]),  # Convert to string\n",
        "        'Definition': str(batch['Definition'][i]),  # Convert to string\n",
        "        'Objective': str(batch['Objective'][i]),  # Convert to string\n",
        "        'Resources': str(batch['Resources'][i]),  # Convert to string\n",
        "        'Citation': str(batch['Citation'][i]),  # Convert to string\n",
        "        'Course Structure': str(batch['Course Structure'][i]),  # Convert to string\n",
        "        'Method': str(batch['Method'][i]),  # Convert to string\n",
        "        'Class size': str(batch['Class size'][i]),  # Convert to string\n",
        "        'Findings': str(batch['Findings'][i]),  # Convert to string\n",
        "        'S-C': str(batch['S-C'][i]),  # Convert to string\n",
        "        'S-S': str(batch['S-S'][i]),  # Convert to string\n",
        "        'S-T': str(batch['S-T'][i]),  # Convert to string\n",
        "        'ICAP': str(batch['ICAP'][i]),  # Convert to string\n",
        "        'A,S': str(batch['A,S'][i]),  # Convert to string\n",
        "        'Steps to try in Sandbox': str(batch['Steps to try in Sandbox'][i]),  # Convert to string\n",
        "        'text': texts[i]  # Include the concatenated text\n",
        "        } for i in range(len(batch['Major']))\n",
        "    ]\n",
        "\n",
        "    # add to Pinecone\n",
        "    index.upsert(vectors=zip(ids, embeds, metadata))\n"
      ]
    },
    {
      "cell_type": "markdown",
      "metadata": {
        "id": "qimqguW5XEow"
      },
      "source": [
        "We can check that the vector index has been populated using `describe_index_stats` like before:"
      ]
    },
    {
      "cell_type": "code",
      "execution_count": null,
      "metadata": {
        "colab": {
          "base_uri": "https://localhost:8080/"
        },
        "id": "Vlk0hvQEXEow",
        "outputId": "110e0485-0c4b-42dd-b0d3-d1d0a7c650ad"
      },
      "outputs": [
        {
          "data": {
            "text/plain": [
              "{'dimension': 1536,\n",
              " 'index_fullness': 0.0003,\n",
              " 'namespaces': {'': {'vector_count': 30}},\n",
              " 'total_vector_count': 30}"
            ]
          },
          "execution_count": 26,
          "metadata": {},
          "output_type": "execute_result"
        }
      ],
      "source": [
        "index.describe_index_stats()"
      ]
    },
    {
      "cell_type": "markdown",
      "metadata": {
        "id": "cmnbQvuWXEox"
      },
      "source": [
        "#### Retrieval Augmented Generation"
      ]
    },
    {
      "cell_type": "markdown",
      "metadata": {
        "id": "lWlbp5IYXEox"
      },
      "source": [
        "We've built a fully-fledged knowledge base. Now it's time to connect that knowledge base to our chatbot. To do that we'll be diving back into LangChain and reusing our template prompt from earlier."
      ]
    },
    {
      "cell_type": "markdown",
      "metadata": {
        "id": "Dxna6XwMXEox"
      },
      "source": [
        "To use LangChain here we need to load the LangChain abstraction for a vector index, called a `vectorstore`. We pass in our vector `index` to initialize the object."
      ]
    },
    {
      "cell_type": "code",
      "execution_count": null,
      "metadata": {
        "colab": {
          "base_uri": "https://localhost:8080/"
        },
        "id": "b8DpghfdXEox",
        "outputId": "ed2407be-e17f-454b-b4e7-e1e6053c5d36"
      },
      "outputs": [
        {
          "name": "stderr",
          "output_type": "stream",
          "text": [
            "/usr/local/lib/python3.10/dist-packages/langchain_core/_api/deprecation.py:117: LangChainDeprecationWarning: The class `langchain_community.vectorstores.pinecone.Pinecone` was deprecated in langchain-community 0.0.18 and will be removed in 0.2.0. An updated version of the class exists in the langchain-pinecone package and should be used instead. To use it run `pip install -U langchain-pinecone` and import as `from langchain_pinecone import Pinecone`.\n",
            "  warn_deprecated(\n",
            "/usr/local/lib/python3.10/dist-packages/langchain_community/vectorstores/pinecone.py:68: UserWarning: Passing in `embedding` as a Callable is deprecated. Please pass in an Embeddings object instead.\n",
            "  warnings.warn(\n"
          ]
        }
      ],
      "source": [
        "from langchain.vectorstores import Pinecone\n",
        "\n",
        "text_field = \"text\"  # the metadata field that contains our text\n",
        "\n",
        "# initialize the vector store object\n",
        "vectorstore = Pinecone(\n",
        "    index, embed_model.embed_query, text_field\n",
        ")"
      ]
    },
    {
      "cell_type": "markdown",
      "metadata": {
        "id": "6CerGkIMXEox"
      },
      "source": [
        "Using this `vectorstore` we can already query the index and see if we have any relevant information given our question about Llama 2."
      ]
    },
    {
      "cell_type": "code",
      "execution_count": null,
      "metadata": {
        "colab": {
          "base_uri": "https://localhost:8080/"
        },
        "id": "xDdz9mxLXEoy",
        "outputId": "fe2f3a64-beed-43f4-c5ff-e1cf8ed441d5"
      },
      "outputs": [
        {
          "data": {
            "text/plain": [
              "[Document(page_content=\"Mechanical Engineering Flipped Classroom Students watch lectures or other instructional materials outside of class and then come to class to work on problems and discuss the material. This helps students learn at their own pace and get more practice solving problems.              The primary objective of the flipped classroom active learning technique is to shift the traditional education paradigm by reimagining the roles of in-class and out-of-class activities. The approach aims to enhance student engagement, critical thinking, and comprehension by reorganizing the learning process. By assigning instructional content for self-paced learning outside of class, such as through videos or readings, valuable in-class time can be dedicated to interactive and collaborative activities. This promotes deeper understanding through discussions, problem-solving, peer interactions, and immediate feedback from instructors. The flipped classroom seeks to create a more dynamic and student-centered learning environment that fosters active participation, encourages active learning, and ultimately enhances students' retention and application of knowledge. nan Cho, H., Zhao, K., Lee, C. R., Runshe, D., & Krousgrill, C. M. (2021). Active learning through flipped classroom in mechanical engineering: improving students’ perception of learning and performance. International Journal of STEM Education, 8(1).              This course studies the statics of deformable materials upon applying external mechanical forces and/or thermal load. The key elements of the class include stress and strain in machine elements; mechanical properties of materials; extension, torsion, and bending of members; thermal stress; failure analysis; and design of a variety of structures. Pre-Lecture videos Pre-lecture videos were recorded and edited in Camtasia and uploaded to Blackboard. Each video was 10 to 15 minutes long and covered the concepts of the topics that would be discussed in the coming week. The face-to-face instruction was taught on Mondays, Wednesdays, and Fridays, with each session lasting 50 minutes. Students were asked to watch the recorded videos before the Monday class each week. Watching the pre-lecture video does not automatically equate to students’ learning. For this reason, the instructor provided a pre-quiz prior to the in-person class so that students would watch the video and check their knowledge through the pre-quiz. In-class activities In the flipped, face-to-face classroom, the instructor recapped the concepts from the videos, focusing on examples and practicing problem-solving as individual students or as groups of two to three students. Students were encouraged to work together on the course materials. The instructor facilitated the discussions throughout the problem-solving process. Half of the Friday class was dedicated to a group quiz when students could work together on a problem, but each student submitted individual work. The difficulty level of the group quiz was comparable to homework and exam problems to bridge the gap between the in-class practice and assessment for students. The instructor facilitated interactions between peers to solve problems and provided help when students had questions solving the quiz problem. In total, there were 99 students in the traditional classroom in Fall 2014 and Spring 2015, while there were 313 students in the flipped classroom from Fall 2015 to Fall 2017. The majority of students were domestic students (64.6%), while 35.4% of students were international students.              Results demonstrated that students in the flipped classroom performed better and favored the new model, feeling that flipped classroom was useful and helpful in preparing for the course. The qualitative findings showed that students felt that they benefited from the pre-week online lectures in the flipped classroom to prepare for the course. nan S-C,S-S,S-T              nan A A,S              nan\", metadata={'A,S': 'A,S', 'Citation': 'Cho, H., Zhao, K., Lee, C. R., Runshe, D., & Krousgrill, C. M. (2021). Active learning through flipped classroom in mechanical engineering: improving students’ perception of learning and performance. International Journal of STEM Education, 8(1).', 'Class size': 'In total, there were 99 students in the traditional classroom in Fall 2014 and Spring 2015, while there were 313 students in the flipped classroom from Fall 2015 to Fall 2017. The majority of students were domestic students (64.6%), while 35.4% of students were international students.', 'Course Structure': 'This course studies the statics of deformable materials upon applying external mechanical forces and/or thermal load. The key elements of the class include stress and strain in machine elements; mechanical properties of materials; extension, torsion, and bending of members; thermal stress; failure analysis; and design of a variety of structures.', 'Definition': 'Students watch lectures or other instructional materials outside of class and then come to class to work on problems and discuss the material. This helps students learn at their own pace and get more practice solving problems.', 'Findings': 'Results demonstrated that students in the flipped classroom performed better and favored the new model, feeling that flipped classroom was useful and helpful in preparing for the course. The qualitative findings showed that students felt that they benefited from the pre-week online lectures in the flipped classroom to prepare for the course.', 'ICAP': 'A', 'Major': 'Mechanical Engineering', 'Method': 'Pre-Lecture videos Pre-lecture videos were recorded and edited in Camtasia and uploaded to Blackboard. Each video was 10 to 15 minutes long and covered the concepts of the topics that would be discussed in the coming week. The face-to-face instruction was taught on Mondays, Wednesdays, and Fridays, with each session lasting 50 minutes. Students were asked to watch the recorded videos before the Monday class each week. Watching the pre-lecture video does not automatically equate to students’ learning. For this reason, the instructor provided a pre-quiz prior to the in-person class so that students would watch the video and check their knowledge through the pre-quiz. In-class activities In the flipped, face-to-face classroom, the instructor recapped the concepts from the videos, focusing on examples and practicing problem-solving as individual students or as groups of two to three students. Students were encouraged to work together on the course materials. The instructor facilitated the discussions throughout the problem-solving process. Half of the Friday class was dedicated to a group quiz when students could work together on a problem, but each student submitted individual work. The difficulty level of the group quiz was comparable to homework and exam problems to bridge the gap between the in-class practice and assessment for students. The instructor facilitated interactions between peers to solve problems and provided help when students had questions solving the quiz problem.', 'Objective': \"The primary objective of the flipped classroom active learning technique is to shift the traditional education paradigm by reimagining the roles of in-class and out-of-class activities. The approach aims to enhance student engagement, critical thinking, and comprehension by reorganizing the learning process. By assigning instructional content for self-paced learning outside of class, such as through videos or readings, valuable in-class time can be dedicated to interactive and collaborative activities. This promotes deeper understanding through discussions, problem-solving, peer interactions, and immediate feedback from instructors. The flipped classroom seeks to create a more dynamic and student-centered learning environment that fosters active participation, encourages active learning, and ultimately enhances students' retention and application of knowledge.\", 'Pedagogy Technique': 'Flipped Classroom', 'Resources': 'nan', 'S-C': 'nan', 'S-S': 'S-C,S-S,S-T', 'S-T': 'nan', 'Steps to try in Sandbox': 'nan'}),\n",
              " Document(page_content='Aerospace Engineering & Astronautics Project Based Learning Students work on long-term projects that require them to apply what they have learned in class. This helps students develop real-world skills and learn to think critically and solve problems.              nan López-Fernández, D., Magreñán, Á. A., Rodríguez, J. R., Porter, J., & Lapuerta, V. (2019). Motivational impact of active learning methods in aerospace engineering students. Acta Astronautica, 165, 344–354. nan              In this contribution, the motivation of students of the Master of Aerospace Engineering degree of the Universidad Politécnica de Madrid is analyzed in two subjects that use different educational techniques. A teaching centered approach is applied in one subject, while active learning methods like Project Based Learning are applied in the other. In this second approach, students are required to perform a preliminary design of a Space Mission starting from Mission requirements and must integrate the subsystems of a microsatellite using demonstration satellites. A reliable instrument tailored for engineering students has been used during two academic years to evaluate the impact of these techniques on the students’ motivation. nan The empirical experience described here confirms the positive impact of active learning methods and indicates the key factors, both intrinsic and extrinsic, in the motivation of aerospace engineering students.              nan nan nan              nan nan nan              nan', metadata={'A,S': 'nan', 'Citation': 'nan', 'Class size': 'The empirical experience described here confirms the positive impact of active learning methods and indicates the key factors, both intrinsic and extrinsic, in the motivation of aerospace engineering students.', 'Course Structure': 'In this contribution, the motivation of students of the Master of Aerospace Engineering degree of the Universidad Politécnica de Madrid is analyzed in two subjects that use different educational techniques. A teaching centered approach is applied in one subject, while active learning methods like Project Based Learning are applied in the other. In this second approach, students are required to perform a preliminary design of a Space Mission starting from Mission requirements and must integrate the subsystems of a microsatellite using demonstration satellites. A reliable instrument tailored for engineering students has been used during two academic years to evaluate the impact of these techniques on the students’ motivation.', 'Definition': 'Students work on long-term projects that require them to apply what they have learned in class. This helps students develop real-world skills and learn to think critically and solve problems.', 'Findings': 'nan', 'ICAP': 'nan', 'Major': 'Aerospace Engineering & Astronautics', 'Method': 'nan', 'Objective': 'nan', 'Pedagogy Technique': 'Project Based Learning', 'Resources': 'López-Fernández, D., Magreñán, Á. A., Rodríguez, J. R., Porter, J., & Lapuerta, V. (2019). Motivational impact of active learning methods in aerospace engineering students. Acta Astronautica, 165, 344–354.', 'S-C': 'nan', 'S-S': 'nan', 'S-T': 'nan', 'Steps to try in Sandbox': 'nan'}),\n",
              " Document(page_content=\"Aerospace Engineering & Astronautics Peer Instruction, Muddiest-point-in-the-lecture cards, Electronic Response Systems, Concept Tests, Course web pages and web-based course evaluations Peer - Students work in pairs or small groups to answer questions posed by the instructor. This helps students learn to think critically and explain their reasoning. Muddiest-point - Students write down the muddiest point they had in a lecture on a card. The instructor collects the cards and addresses the students' questions at the end of the lecture. This helps students identify and clarify their understanding of the material. Electronic response systems - Students use electronic devices to respond to questions posed by the instructor. This helps the instructor assess student understanding and identify areas where further instruction is needed. Concept Tests - Students take short, multiple-choice tests on concepts covered in class. This helps students assess their own understanding of the material and identify areas where they need to study more. Web based evaluations - Students can access course materials and information on the instructor's course web page. They can also complete web-based course evaluations to provide feedback on the course. This helps students stay organized and engaged in the course and provides the instructor with valuable feedback.              nan Adoption of active learning in a lecture-based engineering class. (2002). IEEE Conference Publication | IEEE Xplore. nan              nan nan nan              nan nan nan              nan nan nan              nan\", metadata={'A,S': 'nan', 'Citation': 'nan', 'Class size': 'nan', 'Course Structure': 'nan', 'Definition': \"Peer - Students work in pairs or small groups to answer questions posed by the instructor. This helps students learn to think critically and explain their reasoning. Muddiest-point - Students write down the muddiest point they had in a lecture on a card. The instructor collects the cards and addresses the students' questions at the end of the lecture. This helps students identify and clarify their understanding of the material. Electronic response systems - Students use electronic devices to respond to questions posed by the instructor. This helps the instructor assess student understanding and identify areas where further instruction is needed. Concept Tests - Students take short, multiple-choice tests on concepts covered in class. This helps students assess their own understanding of the material and identify areas where they need to study more. Web based evaluations - Students can access course materials and information on the instructor's course web page. They can also complete web-based course evaluations to provide feedback on the course. This helps students stay organized and engaged in the course and provides the instructor with valuable feedback.\", 'Findings': 'nan', 'ICAP': 'nan', 'Major': 'Aerospace Engineering & Astronautics', 'Method': 'nan', 'Objective': 'nan', 'Pedagogy Technique': 'Peer Instruction, Muddiest-point-in-the-lecture cards, Electronic Response Systems, Concept Tests, Course web pages and web-based course evaluations', 'Resources': 'Adoption of active learning in a lecture-based engineering class. (2002). IEEE Conference Publication | IEEE Xplore.', 'S-C': 'nan', 'S-S': 'nan', 'S-T': 'nan', 'Steps to try in Sandbox': 'nan'})]"
            ]
          },
          "execution_count": 35,
          "metadata": {},
          "output_type": "execute_result"
        }
      ],
      "source": [
        "query = \"How can I teach Mechanical Engineering using Active Learning\"\n",
        "\n",
        "vectorstore.similarity_search(query, k=3)"
      ]
    },
    {
      "cell_type": "markdown",
      "metadata": {
        "id": "z1YljzoqXEoy"
      },
      "source": [
        "We return a lot of text here and it's not that clear what we need or what is relevant. Fortunately, our LLM will be able to parse this information much faster than us. All we need is to connect the output from our `vectorstore` to our `chat` chatbot. To do that we can use the same logic as we used earlier."
      ]
    },
    {
      "cell_type": "code",
      "execution_count": null,
      "metadata": {
        "id": "fjq4bc_AXEoy"
      },
      "outputs": [],
      "source": [
        "def augment_prompt(query: str):\n",
        "    # get top 3 results from knowledge base\n",
        "    results = vectorstore.similarity_search(query, k=3)\n",
        "    # get the text from the results\n",
        "    source_knowledge = \"\\n\".join([x.page_content for x in results])\n",
        "    # feed into an augmented prompt\n",
        "    augmented_prompt = f\"\"\"Using the contexts below, answer the query.\n",
        "\n",
        "    Contexts:\n",
        "    {source_knowledge}\n",
        "\n",
        "    Query: {query}\"\"\"\n",
        "    return augmented_prompt"
      ]
    },
    {
      "cell_type": "markdown",
      "metadata": {
        "id": "RnNrHVpmXEoy"
      },
      "source": [
        "Using this we produce an augmented prompt:"
      ]
    },
    {
      "cell_type": "code",
      "execution_count": null,
      "metadata": {
        "colab": {
          "base_uri": "https://localhost:8080/"
        },
        "id": "9EstwzpdXEoy",
        "outputId": "df4cc290-aed9-4f97-a04f-91212712a1e7"
      },
      "outputs": [
        {
          "name": "stdout",
          "output_type": "stream",
          "text": [
            "Using the contexts below, answer the query.\n",
            "\n",
            "    Contexts:\n",
            "    Mechanical Engineering Flipped Classroom Students watch lectures or other instructional materials outside of class and then come to class to work on problems and discuss the material. This helps students learn at their own pace and get more practice solving problems.              The primary objective of the flipped classroom active learning technique is to shift the traditional education paradigm by reimagining the roles of in-class and out-of-class activities. The approach aims to enhance student engagement, critical thinking, and comprehension by reorganizing the learning process. By assigning instructional content for self-paced learning outside of class, such as through videos or readings, valuable in-class time can be dedicated to interactive and collaborative activities. This promotes deeper understanding through discussions, problem-solving, peer interactions, and immediate feedback from instructors. The flipped classroom seeks to create a more dynamic and student-centered learning environment that fosters active participation, encourages active learning, and ultimately enhances students' retention and application of knowledge. nan Cho, H., Zhao, K., Lee, C. R., Runshe, D., & Krousgrill, C. M. (2021). Active learning through flipped classroom in mechanical engineering: improving students’ perception of learning and performance. International Journal of STEM Education, 8(1).              This course studies the statics of deformable materials upon applying external mechanical forces and/or thermal load. The key elements of the class include stress and strain in machine elements; mechanical properties of materials; extension, torsion, and bending of members; thermal stress; failure analysis; and design of a variety of structures. Pre-Lecture videos Pre-lecture videos were recorded and edited in Camtasia and uploaded to Blackboard. Each video was 10 to 15 minutes long and covered the concepts of the topics that would be discussed in the coming week. The face-to-face instruction was taught on Mondays, Wednesdays, and Fridays, with each session lasting 50 minutes. Students were asked to watch the recorded videos before the Monday class each week. Watching the pre-lecture video does not automatically equate to students’ learning. For this reason, the instructor provided a pre-quiz prior to the in-person class so that students would watch the video and check their knowledge through the pre-quiz. In-class activities In the flipped, face-to-face classroom, the instructor recapped the concepts from the videos, focusing on examples and practicing problem-solving as individual students or as groups of two to three students. Students were encouraged to work together on the course materials. The instructor facilitated the discussions throughout the problem-solving process. Half of the Friday class was dedicated to a group quiz when students could work together on a problem, but each student submitted individual work. The difficulty level of the group quiz was comparable to homework and exam problems to bridge the gap between the in-class practice and assessment for students. The instructor facilitated interactions between peers to solve problems and provided help when students had questions solving the quiz problem. In total, there were 99 students in the traditional classroom in Fall 2014 and Spring 2015, while there were 313 students in the flipped classroom from Fall 2015 to Fall 2017. The majority of students were domestic students (64.6%), while 35.4% of students were international students.              Results demonstrated that students in the flipped classroom performed better and favored the new model, feeling that flipped classroom was useful and helpful in preparing for the course. The qualitative findings showed that students felt that they benefited from the pre-week online lectures in the flipped classroom to prepare for the course. nan S-C,S-S,S-T              nan A A,S              nan\n",
            "Aerospace Engineering & Astronautics Project Based Learning Students work on long-term projects that require them to apply what they have learned in class. This helps students develop real-world skills and learn to think critically and solve problems.              nan López-Fernández, D., Magreñán, Á. A., Rodríguez, J. R., Porter, J., & Lapuerta, V. (2019). Motivational impact of active learning methods in aerospace engineering students. Acta Astronautica, 165, 344–354. nan              In this contribution, the motivation of students of the Master of Aerospace Engineering degree of the Universidad Politécnica de Madrid is analyzed in two subjects that use different educational techniques. A teaching centered approach is applied in one subject, while active learning methods like Project Based Learning are applied in the other. In this second approach, students are required to perform a preliminary design of a Space Mission starting from Mission requirements and must integrate the subsystems of a microsatellite using demonstration satellites. A reliable instrument tailored for engineering students has been used during two academic years to evaluate the impact of these techniques on the students’ motivation. nan The empirical experience described here confirms the positive impact of active learning methods and indicates the key factors, both intrinsic and extrinsic, in the motivation of aerospace engineering students.              nan nan nan              nan nan nan              nan\n",
            "Aerospace Engineering & Astronautics Peer Instruction, Muddiest-point-in-the-lecture cards, Electronic Response Systems, Concept Tests, Course web pages and web-based course evaluations Peer - Students work in pairs or small groups to answer questions posed by the instructor. This helps students learn to think critically and explain their reasoning. Muddiest-point - Students write down the muddiest point they had in a lecture on a card. The instructor collects the cards and addresses the students' questions at the end of the lecture. This helps students identify and clarify their understanding of the material. Electronic response systems - Students use electronic devices to respond to questions posed by the instructor. This helps the instructor assess student understanding and identify areas where further instruction is needed. Concept Tests - Students take short, multiple-choice tests on concepts covered in class. This helps students assess their own understanding of the material and identify areas where they need to study more. Web based evaluations - Students can access course materials and information on the instructor's course web page. They can also complete web-based course evaluations to provide feedback on the course. This helps students stay organized and engaged in the course and provides the instructor with valuable feedback.              nan Adoption of active learning in a lecture-based engineering class. (2002). IEEE Conference Publication | IEEE Xplore. nan              nan nan nan              nan nan nan              nan nan nan              nan\n",
            "\n",
            "    Query: How can I teach Mechanical Engineering using Active Learning\n"
          ]
        }
      ],
      "source": [
        "print(augment_prompt(query))"
      ]
    },
    {
      "cell_type": "markdown",
      "metadata": {
        "id": "HQ8jSnoCXEoz"
      },
      "source": [
        "There is still a lot of text here, so let's pass it onto our chat model to see how it performs."
      ]
    },
    {
      "cell_type": "code",
      "execution_count": null,
      "metadata": {
        "colab": {
          "base_uri": "https://localhost:8080/"
        },
        "id": "zxQ0PeYUXEoz",
        "outputId": "26e0a664-3fe4-4e08-f2bd-3dbbad49d763"
      },
      "outputs": [
        {
          "name": "stdout",
          "output_type": "stream",
          "text": [
            "To teach Mechanical Engineering using Active Learning, one effective strategy you can consider is implementing a Flipped Classroom approach. In a Flipped Classroom setting, students engage with instructional materials outside of class, such as watching pre-recorded lectures or reading materials, and then come to class to work on problems, discuss concepts, and engage in collaborative activities. This approach can enhance student engagement, critical thinking, and comprehension by reorganizing the traditional learning process.\n",
            "\n",
            "Here is a suggested plan for implementing a Flipped Classroom approach in teaching Mechanical Engineering using Active Learning:\n",
            "\n",
            "1. **Pre-Lecture Videos:** Record and upload pre-lecture videos covering key concepts and topics to an online platform like Blackboard. Encourage students to watch these videos before coming to class to familiarize themselves with the material.\n",
            "\n",
            "2. **Pre-Quiz:** Provide a pre-quiz related to the pre-lecture videos to assess students' understanding and ensure they have engaged with the material before the in-person class. This helps reinforce learning and prepares students for discussions and activities in class.\n",
            "\n",
            "3. **In-Class Activities:** During face-to-face sessions, focus on facilitating discussions, problem-solving activities, and collaborative work among students. Encourage students to work individually or in small groups to apply the concepts learned from the pre-lecture videos to solve problems and engage in hands-on activities.\n",
            "\n",
            "4. **Group Quizzes:** Incorporate group quizzes where students can work together on challenging problems that require critical thinking and application of knowledge. These quizzes can bridge the gap between in-class practice and assessments, providing students with immediate feedback and opportunities for peer interaction.\n",
            "\n",
            "5. **Interactive Problem-Solving:** Engage students in practical problem-solving exercises, case studies, and real-world applications of mechanical engineering principles. Encourage active participation, peer interactions, and discussions to deepen understanding and promote collaborative learning.\n",
            "\n",
            "6. **Feedback and Support:** Provide support and guidance to students as they work through problems and activities in class. Offer immediate feedback, clarify concepts, and facilitate peer-to-peer interactions to enhance learning outcomes.\n",
            "\n",
            "By implementing a Flipped Classroom approach with active learning strategies in Mechanical Engineering education, you can create a dynamic and student-centered learning environment that enhances student engagement, critical thinking skills, and application of knowledge.\n"
          ]
        }
      ],
      "source": [
        "# create a new user prompt\n",
        "prompt = HumanMessage(\n",
        "    content=augment_prompt(query)\n",
        ")\n",
        "# add to messages\n",
        "messages.append(prompt)\n",
        "\n",
        "res = chat(messages)\n",
        "\n",
        "print(res.content)"
      ]
    },
    {
      "cell_type": "markdown",
      "metadata": {
        "id": "vlySCGWAXEoz"
      },
      "source": [
        "We can continue with more Llama 2 questions. Let's try _without_ RAG first:"
      ]
    },
    {
      "cell_type": "code",
      "execution_count": null,
      "metadata": {
        "colab": {
          "base_uri": "https://localhost:8080/"
        },
        "id": "1f8fR2qLXEoz",
        "outputId": "d9831870-8c0a-427b-b678-d7154b3eb916"
      },
      "outputs": [
        {
          "name": "stdout",
          "output_type": "stream",
          "text": [
            "Yes, Problem-Based Learning (PBL) can be effectively applied to Biomedical Engineering education. PBL allows students to work on real-world problems that are relevant to their field of study, promoting critical thinking, problem-solving skills, and application of knowledge. Here are a few examples where PBL has been used in Biomedical Engineering:\n",
            "\n",
            "1. **Case-Based Learning in Biomedical Engineering**: In a study published in the International Journal of Engineering Education, researchers implemented a case-based learning approach in a Biomedical Engineering course where students worked on real-world cases related to medical device design and development. The case studies required students to apply their knowledge of engineering principles to solve complex problems in the biomedical field.\n",
            "\n",
            "2. **Biomedical Device Design Challenge**: In another example, a university integrated a biomedical device design challenge into their Biomedical Engineering curriculum using a PBL approach. Students were tasked with designing and prototyping a medical device to address a specific healthcare problem. This hands-on project-based learning experience allowed students to apply engineering principles to solve real healthcare challenges.\n",
            "\n",
            "3. **Clinical Problem Solving in Biomedical Engineering**: A study conducted at a medical school incorporated clinical problem-solving scenarios into the Biomedical Engineering curriculum. Students were presented with patient case studies and tasked with designing innovative solutions using engineering principles. This approach bridged the gap between engineering concepts and clinical applications, enhancing students' problem-solving skills and understanding of the healthcare industry.\n",
            "\n",
            "By incorporating Problem-Based Learning into Biomedical Engineering education, students can develop a deeper understanding of core concepts, improve their problem-solving abilities, and gain practical experience in applying engineering principles to real-world challenges in the healthcare field.\n"
          ]
        }
      ],
      "source": [
        "prompt = HumanMessage(\n",
        "    content=\"Can I apply Problem Based Learning to Biomedical Engineering? Can you give examples where it has been done?\"\n",
        ")\n",
        "\n",
        "res = chat(messages + [prompt])\n",
        "print(res.content)"
      ]
    },
    {
      "cell_type": "markdown",
      "metadata": {
        "id": "cQ-G9ORuXEoz"
      },
      "source": [
        "The chatbot is able to respond about Llama 2 thanks to it's conversational history stored in `messages`. However, it doesn't know anything about the safety measures themselves as we have not provided it with that information via the RAG pipeline. Let's try again but with RAG."
      ]
    },
    {
      "cell_type": "code",
      "execution_count": null,
      "metadata": {
        "colab": {
          "base_uri": "https://localhost:8080/"
        },
        "id": "2bkseCXrXEo0",
        "outputId": "cd628505-0326-4977-d7c4-c17fe46b6119"
      },
      "outputs": [
        {
          "name": "stdout",
          "output_type": "stream",
          "text": [
            "Yes, Problem-Based Learning (PBL) can be effectively applied to Biomedical Engineering to promote critical thinking, problem-solving skills, and collaboration among students. Here are some examples where PBL has been implemented in the field of Biomedical Engineering:\n",
            "\n",
            "1. **Research Paper Title:** \"Active learning through problem-based learning in Biomedical Engineering: Enhancing student engagement and performance\"\n",
            "   \n",
            "   **Authors:** John Smith, Emily Johnson, Sarah Lee\n",
            "   \n",
            "   **Description:** This study implemented a problem-based learning approach in a Biomedical Engineering course focusing on biomechanics. Students were presented with real-world biomechanical problems related to prosthetic designs and medical device development. They worked in small groups to research, analyze, and propose solutions to these problems. The study found that students in the problem-based learning group demonstrated improved critical thinking skills, problem-solving abilities, and engagement compared to traditional lecture-based instruction.\n",
            "\n",
            "   **Reference:** [Link to the Research Paper](#)\n",
            "\n",
            "2. **Research Paper Title:** \"Integration of Problem-Based Learning in Biomedical Engineering Curriculum: A Case Study\"\n",
            "   \n",
            "   **Authors:** Alex Chen, Maria Rodriguez, Jessica Patel\n",
            "   \n",
            "   **Description:** This case study explored the implementation of problem-based learning in a Biomedical Engineering program focusing on tissue engineering. Students were tasked with solving complex challenges related to tissue regeneration and biomaterial selection. They worked in small groups to analyze case studies, conduct experiments, and propose innovative solutions. The study highlighted the effectiveness of problem-based learning in enhancing students' understanding of tissue engineering concepts and fostering interdisciplinary collaboration.\n",
            "\n",
            "   **Reference:** [Link to the Research Paper](#)\n",
            "\n",
            "These examples demonstrate how Problem-Based Learning has been successfully integrated into Biomedical Engineering education to engage students, enhance their problem-solving skills, and promote a deeper understanding of complex biomedical challenges.\n"
          ]
        }
      ],
      "source": [
        "prompt = HumanMessage(\n",
        "    content=augment_prompt(\n",
        "        \"Can I apply Problem Based Learning to Biomedical Engineering? Can you give examples where it has been done?\"\n",
        "    )\n",
        ")\n",
        "\n",
        "res = chat(messages + [prompt])\n",
        "print(res.content)"
      ]
    },
    {
      "cell_type": "markdown",
      "metadata": {
        "id": "9lm7rs7WXEo0"
      },
      "source": [
        "We get a much more informed response that includes several items missing in the previous non-RAG response, such as \"red-teaming\", \"iterative evaluations\", and the intention of the researchers to share this research to help \"improve their safety, promoting responsible development in the field\"."
      ]
    },
    {
      "cell_type": "markdown",
      "metadata": {
        "id": "tCagpOPcXEo0"
      },
      "source": [
        "Delete the index to save resources:"
      ]
    },
    {
      "cell_type": "code",
      "execution_count": null,
      "metadata": {
        "id": "ttCW3c-xXEo0"
      },
      "outputs": [],
      "source": [
        "# pc.delete_index(index_name)"
      ]
    },
    {
      "cell_type": "markdown",
      "metadata": {
        "id": "3xZeDG1iXEo0"
      },
      "source": [
        "---"
      ]
    }
  ],
  "metadata": {
    "colab": {
      "include_colab_link": true,
      "provenance": []
    },
    "kernelspec": {
      "display_name": "redacre",
      "language": "python",
      "name": "python3"
    },
    "language_info": {
      "codemirror_mode": {
        "name": "ipython",
        "version": 3
      },
      "file_extension": ".py",
      "mimetype": "text/x-python",
      "name": "python",
      "nbconvert_exporter": "python",
      "pygments_lexer": "ipython3",
      "version": "3.11.3"
    },
    "orig_nbformat": 4,
    "widgets": {
      "application/vnd.jupyter.widget-state+json": {
        "1f203edf4a2841f787843c25266a3f9f": {
          "model_module": "@jupyter-widgets/controls",
          "model_module_version": "1.5.0",
          "model_name": "DescriptionStyleModel",
          "state": {
            "_model_module": "@jupyter-widgets/controls",
            "_model_module_version": "1.5.0",
            "_model_name": "DescriptionStyleModel",
            "_view_count": null,
            "_view_module": "@jupyter-widgets/base",
            "_view_module_version": "1.2.0",
            "_view_name": "StyleView",
            "description_width": ""
          }
        },
        "36e98c50318f4db7878eb9a00c0b5d31": {
          "model_module": "@jupyter-widgets/controls",
          "model_module_version": "1.5.0",
          "model_name": "HTMLModel",
          "state": {
            "_dom_classes": [],
            "_model_module": "@jupyter-widgets/controls",
            "_model_module_version": "1.5.0",
            "_model_name": "HTMLModel",
            "_view_count": null,
            "_view_module": "@jupyter-widgets/controls",
            "_view_module_version": "1.5.0",
            "_view_name": "HTMLView",
            "description": "",
            "description_tooltip": null,
            "layout": "IPY_MODEL_e8c6165e2da94308857620cdd0ab2516",
            "placeholder": "​",
            "style": "IPY_MODEL_1f203edf4a2841f787843c25266a3f9f",
            "value": " 1/1 [00:03&lt;00:00,  3.45s/it]"
          }
        },
        "6bc51e7ddc2e40e6a9cbe7ffa41b8cf7": {
          "model_module": "@jupyter-widgets/controls",
          "model_module_version": "1.5.0",
          "model_name": "FloatProgressModel",
          "state": {
            "_dom_classes": [],
            "_model_module": "@jupyter-widgets/controls",
            "_model_module_version": "1.5.0",
            "_model_name": "FloatProgressModel",
            "_view_count": null,
            "_view_module": "@jupyter-widgets/controls",
            "_view_module_version": "1.5.0",
            "_view_name": "ProgressView",
            "bar_style": "success",
            "description": "",
            "description_tooltip": null,
            "layout": "IPY_MODEL_b4abb82d2842470e80cd851aa103e7bf",
            "max": 1,
            "min": 0,
            "orientation": "horizontal",
            "style": "IPY_MODEL_c172529f1efa49b4925b74d9c4548ca2",
            "value": 1
          }
        },
        "6c2889235f164d119a369cbdc3147198": {
          "model_module": "@jupyter-widgets/controls",
          "model_module_version": "1.5.0",
          "model_name": "HBoxModel",
          "state": {
            "_dom_classes": [],
            "_model_module": "@jupyter-widgets/controls",
            "_model_module_version": "1.5.0",
            "_model_name": "HBoxModel",
            "_view_count": null,
            "_view_module": "@jupyter-widgets/controls",
            "_view_module_version": "1.5.0",
            "_view_name": "HBoxView",
            "box_style": "",
            "children": [
              "IPY_MODEL_aa9f837d20ab4bcca1dcf0808abb8fe2",
              "IPY_MODEL_6bc51e7ddc2e40e6a9cbe7ffa41b8cf7",
              "IPY_MODEL_36e98c50318f4db7878eb9a00c0b5d31"
            ],
            "layout": "IPY_MODEL_ab9d8de9bedc472cbf6e2d89a5c289a2"
          }
        },
        "aa9f837d20ab4bcca1dcf0808abb8fe2": {
          "model_module": "@jupyter-widgets/controls",
          "model_module_version": "1.5.0",
          "model_name": "HTMLModel",
          "state": {
            "_dom_classes": [],
            "_model_module": "@jupyter-widgets/controls",
            "_model_module_version": "1.5.0",
            "_model_name": "HTMLModel",
            "_view_count": null,
            "_view_module": "@jupyter-widgets/controls",
            "_view_module_version": "1.5.0",
            "_view_name": "HTMLView",
            "description": "",
            "description_tooltip": null,
            "layout": "IPY_MODEL_fb51d06074b2456fa3163d923280aad0",
            "placeholder": "​",
            "style": "IPY_MODEL_dec460b2e7a941b3b86bd2724229b2c6",
            "value": "100%"
          }
        },
        "ab9d8de9bedc472cbf6e2d89a5c289a2": {
          "model_module": "@jupyter-widgets/base",
          "model_module_version": "1.2.0",
          "model_name": "LayoutModel",
          "state": {
            "_model_module": "@jupyter-widgets/base",
            "_model_module_version": "1.2.0",
            "_model_name": "LayoutModel",
            "_view_count": null,
            "_view_module": "@jupyter-widgets/base",
            "_view_module_version": "1.2.0",
            "_view_name": "LayoutView",
            "align_content": null,
            "align_items": null,
            "align_self": null,
            "border": null,
            "bottom": null,
            "display": null,
            "flex": null,
            "flex_flow": null,
            "grid_area": null,
            "grid_auto_columns": null,
            "grid_auto_flow": null,
            "grid_auto_rows": null,
            "grid_column": null,
            "grid_gap": null,
            "grid_row": null,
            "grid_template_areas": null,
            "grid_template_columns": null,
            "grid_template_rows": null,
            "height": null,
            "justify_content": null,
            "justify_items": null,
            "left": null,
            "margin": null,
            "max_height": null,
            "max_width": null,
            "min_height": null,
            "min_width": null,
            "object_fit": null,
            "object_position": null,
            "order": null,
            "overflow": null,
            "overflow_x": null,
            "overflow_y": null,
            "padding": null,
            "right": null,
            "top": null,
            "visibility": null,
            "width": null
          }
        },
        "b4abb82d2842470e80cd851aa103e7bf": {
          "model_module": "@jupyter-widgets/base",
          "model_module_version": "1.2.0",
          "model_name": "LayoutModel",
          "state": {
            "_model_module": "@jupyter-widgets/base",
            "_model_module_version": "1.2.0",
            "_model_name": "LayoutModel",
            "_view_count": null,
            "_view_module": "@jupyter-widgets/base",
            "_view_module_version": "1.2.0",
            "_view_name": "LayoutView",
            "align_content": null,
            "align_items": null,
            "align_self": null,
            "border": null,
            "bottom": null,
            "display": null,
            "flex": null,
            "flex_flow": null,
            "grid_area": null,
            "grid_auto_columns": null,
            "grid_auto_flow": null,
            "grid_auto_rows": null,
            "grid_column": null,
            "grid_gap": null,
            "grid_row": null,
            "grid_template_areas": null,
            "grid_template_columns": null,
            "grid_template_rows": null,
            "height": null,
            "justify_content": null,
            "justify_items": null,
            "left": null,
            "margin": null,
            "max_height": null,
            "max_width": null,
            "min_height": null,
            "min_width": null,
            "object_fit": null,
            "object_position": null,
            "order": null,
            "overflow": null,
            "overflow_x": null,
            "overflow_y": null,
            "padding": null,
            "right": null,
            "top": null,
            "visibility": null,
            "width": null
          }
        },
        "c172529f1efa49b4925b74d9c4548ca2": {
          "model_module": "@jupyter-widgets/controls",
          "model_module_version": "1.5.0",
          "model_name": "ProgressStyleModel",
          "state": {
            "_model_module": "@jupyter-widgets/controls",
            "_model_module_version": "1.5.0",
            "_model_name": "ProgressStyleModel",
            "_view_count": null,
            "_view_module": "@jupyter-widgets/base",
            "_view_module_version": "1.2.0",
            "_view_name": "StyleView",
            "bar_color": null,
            "description_width": ""
          }
        },
        "dec460b2e7a941b3b86bd2724229b2c6": {
          "model_module": "@jupyter-widgets/controls",
          "model_module_version": "1.5.0",
          "model_name": "DescriptionStyleModel",
          "state": {
            "_model_module": "@jupyter-widgets/controls",
            "_model_module_version": "1.5.0",
            "_model_name": "DescriptionStyleModel",
            "_view_count": null,
            "_view_module": "@jupyter-widgets/base",
            "_view_module_version": "1.2.0",
            "_view_name": "StyleView",
            "description_width": ""
          }
        },
        "e8c6165e2da94308857620cdd0ab2516": {
          "model_module": "@jupyter-widgets/base",
          "model_module_version": "1.2.0",
          "model_name": "LayoutModel",
          "state": {
            "_model_module": "@jupyter-widgets/base",
            "_model_module_version": "1.2.0",
            "_model_name": "LayoutModel",
            "_view_count": null,
            "_view_module": "@jupyter-widgets/base",
            "_view_module_version": "1.2.0",
            "_view_name": "LayoutView",
            "align_content": null,
            "align_items": null,
            "align_self": null,
            "border": null,
            "bottom": null,
            "display": null,
            "flex": null,
            "flex_flow": null,
            "grid_area": null,
            "grid_auto_columns": null,
            "grid_auto_flow": null,
            "grid_auto_rows": null,
            "grid_column": null,
            "grid_gap": null,
            "grid_row": null,
            "grid_template_areas": null,
            "grid_template_columns": null,
            "grid_template_rows": null,
            "height": null,
            "justify_content": null,
            "justify_items": null,
            "left": null,
            "margin": null,
            "max_height": null,
            "max_width": null,
            "min_height": null,
            "min_width": null,
            "object_fit": null,
            "object_position": null,
            "order": null,
            "overflow": null,
            "overflow_x": null,
            "overflow_y": null,
            "padding": null,
            "right": null,
            "top": null,
            "visibility": null,
            "width": null
          }
        },
        "fb51d06074b2456fa3163d923280aad0": {
          "model_module": "@jupyter-widgets/base",
          "model_module_version": "1.2.0",
          "model_name": "LayoutModel",
          "state": {
            "_model_module": "@jupyter-widgets/base",
            "_model_module_version": "1.2.0",
            "_model_name": "LayoutModel",
            "_view_count": null,
            "_view_module": "@jupyter-widgets/base",
            "_view_module_version": "1.2.0",
            "_view_name": "LayoutView",
            "align_content": null,
            "align_items": null,
            "align_self": null,
            "border": null,
            "bottom": null,
            "display": null,
            "flex": null,
            "flex_flow": null,
            "grid_area": null,
            "grid_auto_columns": null,
            "grid_auto_flow": null,
            "grid_auto_rows": null,
            "grid_column": null,
            "grid_gap": null,
            "grid_row": null,
            "grid_template_areas": null,
            "grid_template_columns": null,
            "grid_template_rows": null,
            "height": null,
            "justify_content": null,
            "justify_items": null,
            "left": null,
            "margin": null,
            "max_height": null,
            "max_width": null,
            "min_height": null,
            "min_width": null,
            "object_fit": null,
            "object_position": null,
            "order": null,
            "overflow": null,
            "overflow_x": null,
            "overflow_y": null,
            "padding": null,
            "right": null,
            "top": null,
            "visibility": null,
            "width": null
          }
        }
      }
    }
  },
  "nbformat": 4,
  "nbformat_minor": 0
}
